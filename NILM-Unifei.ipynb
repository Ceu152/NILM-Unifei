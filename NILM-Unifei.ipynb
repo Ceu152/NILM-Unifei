{
 "cells": [
  {
   "cell_type": "code",
   "execution_count": 1,
   "metadata": {},
   "outputs": [],
   "source": [
    "#Este projeto treina usando todas as casas e usando o método \n",
    "from __future__ import print_function, division\n",
    "import time\n",
    "from matplotlib import rcParams\n",
    "import matplotlib.pyplot as plt\n",
    "import pandas as pd\n",
    "import numpy as np\n",
    "from six import iteritems\n",
    "from nilmtk import DataSet, TimeFrame, MeterGroup, HDFDataStore\n",
    "from nilmtk.legacy.disaggregate import CombinatorialOptimisation, FHMM\n",
    "import nilmtk.utils\n",
    "import unifei\n",
    "\n",
    "%matplotlib inline\n",
    "\n",
    "#Tamanho das figuras\n",
    "rcParams['figure.figsize'] = (13, 6)"
   ]
  },
  {
   "cell_type": "code",
   "execution_count": 2,
   "metadata": {
    "scrolled": true
   },
   "outputs": [],
   "source": [
    "#Demonstração do funcionamento do nosso banco de dados\n",
    "#from unifei.convert_unifei import convert_unifei\n",
    "#from nilmtk.utils import print_dict\n",
    "\n",
    "#convert_unifei(r'medicao_unifei', 'banco_unifei.h5')\n",
    "\n",
    "#unifei = DataSet('banco_unifei.h5')\n",
    "#print_dict(unifei.metadata)"
   ]
  },
  {
   "cell_type": "code",
   "execution_count": 3,
   "metadata": {},
   "outputs": [],
   "source": [
    "#print_dict(unifei.buildings)"
   ]
  },
  {
   "cell_type": "code",
   "execution_count": 4,
   "metadata": {},
   "outputs": [],
   "source": [
    "#unifei.buildings[1].elec"
   ]
  },
  {
   "cell_type": "code",
   "execution_count": 5,
   "metadata": {
    "scrolled": true
   },
   "outputs": [
    {
     "name": "stdout",
     "output_type": "stream",
     "text": [
      "Loading house 1... 1 2 3 4 5 6 7 8 9 10 11 12 13 14 15 16 17 18 19 20 \n",
      "Loading house 2... 1 2 3 4 5 6 7 8 9 10 11 \n",
      "Loading house 3... 1 2 3 4 5 6 7 8 9 10 11 12 13 14 15 16 17 18 19 20 21 22 \n",
      "Loading house 4... 1 2 3 4 5 6 7 8 9 10 11 12 13 14 15 16 17 18 19 20 \n",
      "Loading house 5... 1 2 3 4 5 6 7 8 9 10 11 12 13 14 15 16 17 18 19 20 21 22 23 24 25 26 \n",
      "Loading house 6... 1 2 3 4 5 6 7 8 9 10 11 12 13 14 15 16 17 \n",
      "Loaded metadata\n",
      "Done converting YAML metadata to HDF5!\n",
      "Done converting REDD to HDF5!\n"
     ]
    }
   ],
   "source": [
    "from redd.convert_redd import convert_redd\n",
    "convert_redd(r'low_freq', 'redd.h5')"
   ]
  },
  {
   "cell_type": "code",
   "execution_count": 6,
   "metadata": {},
   "outputs": [],
   "source": [
    "#Carrega os dados na memória\n",
    "train = DataSet('redd.h5')\n",
    "test = DataSet('redd.h5')"
   ]
  },
  {
   "cell_type": "code",
   "execution_count": 7,
   "metadata": {},
   "outputs": [],
   "source": [
    "#Enumera todas as casas\n",
    "buildings = [ i for i in range(6)]"
   ]
  },
  {
   "cell_type": "code",
   "execution_count": 8,
   "metadata": {},
   "outputs": [],
   "source": [
    "# The dates are interpreted by Pandas, prefer using ISO dates (yyyy-mm-dd)\n",
    "train.set_window(end=\"2011-04-30\")\n",
    "test.set_window(start=\"2011-04-30\")\n",
    "\n",
    "#Vetor que guarda os dados de todas as casas\n",
    "train_elec = [None for i in range(6)]\n",
    "test_elec = [None for i in range(6)]\n",
    "\n",
    "for building in buildings:\n",
    "    train_elec[building] = train.buildings[building+1].elec\n",
    "    test_elec[building] = test.buildings[building+1].elec"
   ]
  },
  {
   "cell_type": "code",
   "execution_count": 9,
   "metadata": {},
   "outputs": [
    {
     "name": "stdout",
     "output_type": "stream",
     "text": [
      "Calculating total_energy for ElecMeterID(instance=2, building=1, dataset='REDD') ...   "
     ]
    },
    {
     "data": {
      "text/plain": [
       "apparent    86.457758\n",
       "dtype: float64"
      ]
     },
     "execution_count": 9,
     "metadata": {},
     "output_type": "execute_result"
    }
   ],
   "source": [
    "#Este valor é dado em kwh\n",
    "test_elec[0].mains().total_energy()"
   ]
  },
  {
   "cell_type": "code",
   "execution_count": 10,
   "metadata": {},
   "outputs": [
    {
     "name": "stdout",
     "output_type": "stream",
     "text": [
      "15/16 MeterGroup(meters==19, building=1, dataset='REDD', appliances=[Appliance(type='unknown', instance=2)])e=1)])ce=1)])\n",
      "  ElecMeter(instance=3, building=1, dataset='REDD', appliances=[Appliance(type='electric oven', instance=1)])\n",
      "  ElecMeter(instance=4, building=1, dataset='REDD', appliances=[Appliance(type='electric oven', instance=1)])\n",
      "16/16 MeterGroup(meters= for ElecMeterID(instance=4, building=1, dataset='REDD') ...   \n",
      "  ElecMeter(instance=10, building=1, dataset='REDD', appliances=[Appliance(type='washer dryer', instance=1)])\n",
      "  ElecMeter(instance=20, building=1, dataset='REDD', appliances=[Appliance(type='washer dryer', instance=1)])\n",
      "Calculating total_energy for ElecMeterID(instance=20, building=1, dataset='REDD') ...   "
     ]
    },
    {
     "data": {
      "text/html": [
       "<div>\n",
       "<style scoped>\n",
       "    .dataframe tbody tr th:only-of-type {\n",
       "        vertical-align: middle;\n",
       "    }\n",
       "\n",
       "    .dataframe tbody tr th {\n",
       "        vertical-align: top;\n",
       "    }\n",
       "\n",
       "    .dataframe thead th {\n",
       "        text-align: right;\n",
       "    }\n",
       "</style>\n",
       "<table border=\"1\" class=\"dataframe\">\n",
       "  <thead>\n",
       "    <tr style=\"text-align: right;\">\n",
       "      <th></th>\n",
       "      <th>(5, 1, REDD)</th>\n",
       "      <th>(6, 1, REDD)</th>\n",
       "      <th>(7, 1, REDD)</th>\n",
       "      <th>(8, 1, REDD)</th>\n",
       "      <th>(9, 1, REDD)</th>\n",
       "      <th>(11, 1, REDD)</th>\n",
       "      <th>(12, 1, REDD)</th>\n",
       "      <th>(13, 1, REDD)</th>\n",
       "      <th>(14, 1, REDD)</th>\n",
       "      <th>(15, 1, REDD)</th>\n",
       "      <th>(16, 1, REDD)</th>\n",
       "      <th>(17, 1, REDD)</th>\n",
       "      <th>(18, 1, REDD)</th>\n",
       "      <th>(19, 1, REDD)</th>\n",
       "      <th>(((3, 1, REDD), (4, 1, REDD)),)</th>\n",
       "      <th>(((10, 1, REDD), (20, 1, REDD)),)</th>\n",
       "    </tr>\n",
       "  </thead>\n",
       "  <tbody>\n",
       "    <tr>\n",
       "      <th>active</th>\n",
       "      <td>29.573188</td>\n",
       "      <td>14.079283</td>\n",
       "      <td>10.954116</td>\n",
       "      <td>14.491839</td>\n",
       "      <td>18.914721</td>\n",
       "      <td>9.989955</td>\n",
       "      <td>3.305365</td>\n",
       "      <td>0.057298</td>\n",
       "      <td>0.377169</td>\n",
       "      <td>3.101951</td>\n",
       "      <td>1.376374</td>\n",
       "      <td>12.967773</td>\n",
       "      <td>7.877163</td>\n",
       "      <td>0.000078</td>\n",
       "      <td>6.785969</td>\n",
       "      <td>27.755526</td>\n",
       "    </tr>\n",
       "    <tr>\n",
       "      <th>apparent</th>\n",
       "      <td>NaN</td>\n",
       "      <td>NaN</td>\n",
       "      <td>NaN</td>\n",
       "      <td>NaN</td>\n",
       "      <td>NaN</td>\n",
       "      <td>NaN</td>\n",
       "      <td>NaN</td>\n",
       "      <td>NaN</td>\n",
       "      <td>NaN</td>\n",
       "      <td>NaN</td>\n",
       "      <td>NaN</td>\n",
       "      <td>NaN</td>\n",
       "      <td>NaN</td>\n",
       "      <td>NaN</td>\n",
       "      <td>NaN</td>\n",
       "      <td>NaN</td>\n",
       "    </tr>\n",
       "    <tr>\n",
       "      <th>reactive</th>\n",
       "      <td>NaN</td>\n",
       "      <td>NaN</td>\n",
       "      <td>NaN</td>\n",
       "      <td>NaN</td>\n",
       "      <td>NaN</td>\n",
       "      <td>NaN</td>\n",
       "      <td>NaN</td>\n",
       "      <td>NaN</td>\n",
       "      <td>NaN</td>\n",
       "      <td>NaN</td>\n",
       "      <td>NaN</td>\n",
       "      <td>NaN</td>\n",
       "      <td>NaN</td>\n",
       "      <td>NaN</td>\n",
       "      <td>NaN</td>\n",
       "      <td>NaN</td>\n",
       "    </tr>\n",
       "  </tbody>\n",
       "</table>\n",
       "</div>"
      ],
      "text/plain": [
       "          (5, 1, REDD)  (6, 1, REDD)  (7, 1, REDD)  (8, 1, REDD)  \\\n",
       "active       29.573188     14.079283     10.954116     14.491839   \n",
       "apparent           NaN           NaN           NaN           NaN   \n",
       "reactive           NaN           NaN           NaN           NaN   \n",
       "\n",
       "          (9, 1, REDD)  (11, 1, REDD)  (12, 1, REDD)  (13, 1, REDD)  \\\n",
       "active       18.914721       9.989955       3.305365       0.057298   \n",
       "apparent           NaN            NaN            NaN            NaN   \n",
       "reactive           NaN            NaN            NaN            NaN   \n",
       "\n",
       "          (14, 1, REDD)  (15, 1, REDD)  (16, 1, REDD)  (17, 1, REDD)  \\\n",
       "active         0.377169       3.101951       1.376374      12.967773   \n",
       "apparent            NaN            NaN            NaN            NaN   \n",
       "reactive            NaN            NaN            NaN            NaN   \n",
       "\n",
       "          (18, 1, REDD)  (19, 1, REDD)  (((3, 1, REDD), (4, 1, REDD)),)  \\\n",
       "active         7.877163       0.000078                         6.785969   \n",
       "apparent            NaN            NaN                              NaN   \n",
       "reactive            NaN            NaN                              NaN   \n",
       "\n",
       "          (((10, 1, REDD), (20, 1, REDD)),)  \n",
       "active                            27.755526  \n",
       "apparent                                NaN  \n",
       "reactive                                NaN  "
      ]
     },
     "execution_count": 10,
     "metadata": {},
     "output_type": "execute_result"
    }
   ],
   "source": [
    "#Energia por cada medidor em kwh\n",
    "energy_per_meter = test_elec[0].submeters().energy_per_meter() # kWh, again\n",
    "energy_per_meter"
   ]
  },
  {
   "cell_type": "code",
   "execution_count": 11,
   "metadata": {},
   "outputs": [
    {
     "name": "stdout",
     "output_type": "stream",
     "text": [
      "15/16 MeterGroup(meters==19, building=1, dataset='REDD', appliances=[Appliance(type='unknown', instance=2)])e=1)])ce=1)])\n",
      "  ElecMeter(instance=3, building=1, dataset='REDD', appliances=[Appliance(type='electric oven', instance=1)])\n",
      "  ElecMeter(instance=4, building=1, dataset='REDD', appliances=[Appliance(type='electric oven', instance=1)])\n",
      "16/16 MeterGroup(meters= for ElecMeterID(instance=4, building=1, dataset='REDD') ...   \n",
      "  ElecMeter(instance=10, building=1, dataset='REDD', appliances=[Appliance(type='washer dryer', instance=1)])\n",
      "  ElecMeter(instance=20, building=1, dataset='REDD', appliances=[Appliance(type='washer dryer', instance=1)])\n",
      "19/19 MeterGroup(meters==22, building=3, dataset='REDD', appliances=[Appliance(type='sockets', instance=5)])1)])1)])])\n",
      "  ElecMeter(instance=13, building=3, dataset='REDD', appliances=[Appliance(type='washer dryer', instance=1)])\n",
      "  ElecMeter(instance=14, building=3, dataset='REDD', appliances=[Appliance(type='washer dryer', instance=1)])\n",
      "17/17 MeterGroup(meters==20, building=4, dataset='REDD', appliances=[Appliance(type='air conditioner', instance=2)])\n",
      "  ElecMeter(instance=9, building=4, dataset='REDD', appliances=[Appliance(type='air conditioner', instance=1)])\n",
      "  ElecMeter(instance=10, building=4, dataset='REDD', appliances=[Appliance(type='air conditioner', instance=1)])\n",
      "21/22 MeterGroup(meters==26, building=5, dataset='REDD', appliances=[Appliance(type='sockets', instance=6)])=1)])ce=1)])\n",
      "  ElecMeter(instance=8, building=5, dataset='REDD', appliances=[Appliance(type='washer dryer', instance=1)])\n",
      "  ElecMeter(instance=9, building=5, dataset='REDD', appliances=[Appliance(type='washer dryer', instance=1)])\n",
      "22/22 MeterGroup(meters= for ElecMeterID(instance=9, building=5, dataset='REDD') ...   \n",
      "  ElecMeter(instance=12, building=5, dataset='REDD', appliances=[Appliance(type='electric space heater', instance=1)])\n",
      "  ElecMeter(instance=13, building=5, dataset='REDD', appliances=[Appliance(type='electric space heater', instance=1)])\n",
      "14/14 MeterGroup(meters==15, building=6, dataset='REDD', appliances=[Appliance(type='air handling unit', instance=1)])1)])\n",
      "  ElecMeter(instance=16, building=6, dataset='REDD', appliances=[Appliance(type='air conditioner', instance=1)])\n",
      "  ElecMeter(instance=17, building=6, dataset='REDD', appliances=[Appliance(type='air conditioner', instance=1)])\n",
      "Calculating total_energy for ElecMeterID(instance=17, building=6, dataset='REDD') ...   "
     ]
    }
   ],
   "source": [
    "#Seleciona as top 5 aplicações de cada casa\n",
    "top_5_train_elec = [None for i in range(6)]\n",
    "\n",
    "for building in buildings:\n",
    "    top_5_train_elec[building] = train_elec[building].submeters().select_top_k(k=5)"
   ]
  },
  {
   "cell_type": "code",
   "execution_count": 12,
   "metadata": {},
   "outputs": [],
   "source": [
    "def predict(clf, test_elec, sample_period, timezone):\n",
    "    pred = {}\n",
    "    gt= {}\n",
    "\n",
    "    for i, chunk in enumerate(test_elec.mains().load(sample_period=sample_period)):\n",
    "        print(i)\n",
    "        chunk_drop_na = chunk.dropna()\n",
    "        pred[i] = clf.disaggregate_chunk(chunk_drop_na)\n",
    "        gt[i]={}\n",
    "\n",
    "        for meter in test_elec.submeters().meters:\n",
    "            # Only use the meters that we trained on (this saves time!)    \n",
    "            gt[i][meter] = next(meter.load(sample_period=sample_period))\n",
    "        gt[i] = pd.DataFrame({k:v.squeeze() for k,v in iteritems(gt[i]) if len(v)}, index=next(iter(gt[i].values())).index).dropna()\n",
    "        \n",
    "    # If everything can fit in memory\n",
    "    gt_overall = pd.concat(gt)\n",
    "    gt_overall.index = gt_overall.index.droplevel()\n",
    "    pred_overall = pd.concat(pred)\n",
    "    pred_overall.index = pred_overall.index.droplevel()\n",
    "    \n",
    "    \n",
    "    # Having the same order of columns\n",
    "    gt_overall = gt_overall[pred_overall.columns]\n",
    "    \n",
    "    #Intersection of index\n",
    "    gt_index_utc = gt_overall.index.tz_convert(\"UTC\")\n",
    "    pred_index_utc = pred_overall.index.tz_convert(\"UTC\")\n",
    "    common_index_utc = gt_index_utc.intersection(pred_index_utc)\n",
    "    \n",
    "    \n",
    "    common_index_local = common_index_utc.tz_convert(timezone)\n",
    "    gt_overall = gt_overall.loc[common_index_local]\n",
    "    pred_overall = pred_overall.loc[common_index_local]\n",
    "    appliance_labels = [m for m in gt_overall.columns.values]\n",
    "    gt_overall.columns = appliance_labels\n",
    "    pred_overall.columns = appliance_labels\n",
    "    \n",
    "    return gt_overall, pred_overall"
   ]
  },
  {
   "cell_type": "code",
   "execution_count": 13,
   "metadata": {},
   "outputs": [],
   "source": [
    "# Since the methods use randomized initialization, let's fix a seed here\n",
    "# to make this notebook reproducible\n",
    "import numpy.random\n",
    "numpy.random.seed(42)"
   ]
  },
  {
   "cell_type": "code",
   "execution_count": 20,
   "metadata": {},
   "outputs": [
    {
     "name": "stdout",
     "output_type": "stream",
     "text": [
      "********************\n",
      "Casa : 0\n",
      "Usando o metodo FHHM...\n",
      "********************\n",
      "Training model for submeter 'ElecMeter(instance=5, building=1, dataset='REDD', appliances=[Appliance(type='fridge', instance=1)])' with 3 states\n",
      "Training model for submeter 'ElecMeter(instance=9, building=1, dataset='REDD', appliances=[Appliance(type='light', instance=1)])' with 3 states\n",
      "Training model for submeter 'ElecMeter(instance=8, building=1, dataset='REDD', appliances=[Appliance(type='sockets', instance=2)])' with 3 states\n",
      "Training model for submeter 'ElecMeter(instance=11, building=1, dataset='REDD', appliances=[Appliance(type='microwave', instance=1)])' with 3 states\n",
      "Training model for submeter 'ElecMeter(instance=6, building=1, dataset='REDD', appliances=[Appliance(type='dish washer', instance=1)])' with 3 states\n",
      "Loading data for meter ElecMeterID(instance=2, building=1, dataset='REDD')     \n",
      "Done loading data all meters for this chunk.\n",
      "0\n",
      "Loading data for meter ElecMeterID(instance=4, building=1, dataset='REDD')     \n",
      "Done loading data all meters for this chunk.\n",
      "Loading data for meter ElecMeterID(instance=20, building=1, dataset='REDD')     \n",
      "Done loading data all meters for this chunk.\n",
      "********************\n",
      "Casa : 1\n",
      "Usando o metodo FHHM...\n",
      "********************\n",
      "Training model for submeter 'ElecMeter(instance=9, building=2, dataset='REDD', appliances=[Appliance(type='fridge', instance=1)])' with 3 states\n",
      "Training model for submeter 'ElecMeter(instance=4, building=2, dataset='REDD', appliances=[Appliance(type='light', instance=1)])' with 3 states\n",
      "Training model for submeter 'ElecMeter(instance=6, building=2, dataset='REDD', appliances=[Appliance(type='microwave', instance=1)])' with 3 states\n",
      "Training model for submeter 'ElecMeter(instance=8, building=2, dataset='REDD', appliances=[Appliance(type='sockets', instance=2)])' with 3 states\n",
      "Training model for submeter 'ElecMeter(instance=10, building=2, dataset='REDD', appliances=[Appliance(type='dish washer', instance=1)])' with 3 states\n",
      "Loading data for meter ElecMeterID(instance=2, building=2, dataset='REDD')     \n",
      "Done loading data all meters for this chunk.\n",
      "0\n",
      "********************\n",
      "Casa : 2\n",
      "Usando o metodo FHHM...\n",
      "********************\n",
      "Training model for submeter 'ElecMeter(instance=6, building=3, dataset='REDD', appliances=[Appliance(type='CE appliance', instance=1)])' with 3 states\n",
      "Loading data for meter ElecMeterID(instance=14, building=3, dataset='REDD')     \n",
      "Done loading data all meters for this chunk.\n",
      "Training model for submeter 'MeterGroup(meters=\n",
      "  ElecMeter(instance=13, building=3, dataset='REDD', appliances=[Appliance(type='washer dryer', instance=1)])\n",
      "  ElecMeter(instance=14, building=3, dataset='REDD', appliances=[Appliance(type='washer dryer', instance=1)])\n",
      ")' with 3 states\n",
      "Training model for submeter 'ElecMeter(instance=7, building=3, dataset='REDD', appliances=[Appliance(type='fridge', instance=1)])' with 3 states\n",
      "Training model for submeter 'ElecMeter(instance=17, building=3, dataset='REDD', appliances=[Appliance(type='light', instance=4)])' with 3 states\n",
      "Training model for submeter 'ElecMeter(instance=11, building=3, dataset='REDD', appliances=[Appliance(type='light', instance=2)])' with 3 states\n",
      "Loading data for meter ElecMeterID(instance=2, building=3, dataset='REDD')     \n",
      "Done loading data all meters for this chunk.\n",
      "0\n",
      "Loading data for meter ElecMeterID(instance=14, building=3, dataset='REDD')     \n",
      "Done loading data all meters for this chunk.\n",
      "********************\n",
      "Casa : 3\n",
      "Usando o metodo FHHM...\n",
      "********************\n",
      "Training model for submeter 'ElecMeter(instance=4, building=4, dataset='REDD', appliances=[Appliance(type='electric furnace', instance=1)])' with 3 states\n",
      "Training model for submeter 'ElecMeter(instance=14, building=4, dataset='REDD', appliances=[Appliance(type='sockets', instance=3)])' with 3 states\n",
      "Training model for submeter 'ElecMeter(instance=13, building=4, dataset='REDD', appliances=[Appliance(type='light', instance=2)])' with 3 states\n",
      "Training model for submeter 'ElecMeter(instance=3, building=4, dataset='REDD', appliances=[Appliance(type='light', instance=1)])' with 3 states\n",
      "Training model for submeter 'ElecMeter(instance=7, building=4, dataset='REDD', appliances=[Appliance(type='washer dryer', instance=1)])' with 3 states\n",
      "Loading data for meter ElecMeterID(instance=2, building=4, dataset='REDD')     \n",
      "Done loading data all meters for this chunk.\n",
      "0\n",
      "Loading data for meter ElecMeterID(instance=10, building=4, dataset='REDD')     \n",
      "Done loading data all meters for this chunk.\n",
      "********************\n",
      "Casa : 4\n",
      "Usando o metodo FHHM...\n",
      "********************\n",
      "Training model for submeter 'ElecMeter(instance=23, building=5, dataset='REDD', appliances=[Appliance(type='light', instance=5)])' with 3 states\n",
      "Training model for submeter 'ElecMeter(instance=18, building=5, dataset='REDD', appliances=[Appliance(type='fridge', instance=1)])' with 3 states\n",
      "Training model for submeter 'ElecMeter(instance=6, building=5, dataset='REDD', appliances=[Appliance(type='electric furnace', instance=1)])' with 3 states\n",
      "Training model for submeter 'ElecMeter(instance=20, building=5, dataset='REDD', appliances=[Appliance(type='dish washer', instance=1)])' with 3 states\n",
      "Training model for submeter 'ElecMeter(instance=22, building=5, dataset='REDD', appliances=[Appliance(type='CE appliance', instance=1)])' with 3 states\n",
      "Loading data for meter ElecMeterID(instance=2, building=5, dataset='REDD')     \n",
      "Done loading data all meters for this chunk.\n",
      "0\n",
      "Loading data for meter ElecMeterID(instance=8, building=5, dataset='REDD')      ElecMeterID(instance=9, building=5, dataset='REDD')     \n",
      "Done loading data all meters for this chunk.\n",
      "Loading data for meter ElecMeterID(instance=13, building=5, dataset='REDD')     \n",
      "Done loading data all meters for this chunk.\n",
      "********************\n",
      "Casa : 5\n",
      "Usando o metodo FHHM...\n",
      "********************\n",
      "Submeter 'ElecMeter(instance=3, building=6, dataset='REDD', appliances=[Appliance(type='sockets', instance=1)])' has no samples, skipping...\n",
      "Submeter 'ElecMeter(instance=4, building=6, dataset='REDD', appliances=[Appliance(type='washer dryer', instance=1)])' has no samples, skipping...\n",
      "Submeter 'ElecMeter(instance=5, building=6, dataset='REDD', appliances=[Appliance(type='electric stove', instance=1)])' has no samples, skipping...\n",
      "Submeter 'ElecMeter(instance=6, building=6, dataset='REDD', appliances=[Appliance(type='CE appliance', instance=1)])' has no samples, skipping...\n",
      "Submeter 'ElecMeter(instance=7, building=6, dataset='REDD', appliances=[Appliance(type='unknown', instance=1)])' has no samples, skipping...\n"
     ]
    },
    {
     "ename": "IndexError",
     "evalue": "list index out of range",
     "output_type": "error",
     "traceback": [
      "\u001b[1;31m---------------------------------------------------------------------------\u001b[0m",
      "\u001b[1;31mIndexError\u001b[0m                                Traceback (most recent call last)",
      "\u001b[1;32m<ipython-input-20-5c1c65697a76>\u001b[0m in \u001b[0;36m<module>\u001b[1;34m\u001b[0m\n\u001b[0;32m      9\u001b[0m     \u001b[0mprint\u001b[0m\u001b[1;33m(\u001b[0m\u001b[1;34m'Usando o metodo FHHM...'\u001b[0m\u001b[1;33m)\u001b[0m\u001b[1;33m\u001b[0m\u001b[1;33m\u001b[0m\u001b[0m\n\u001b[0;32m     10\u001b[0m     \u001b[0mprint\u001b[0m\u001b[1;33m(\u001b[0m\u001b[1;34m'*'\u001b[0m \u001b[1;33m*\u001b[0m \u001b[1;36m20\u001b[0m \u001b[1;33m)\u001b[0m\u001b[1;33m\u001b[0m\u001b[1;33m\u001b[0m\u001b[0m\n\u001b[1;32m---> 11\u001b[1;33m     \u001b[0mfhmm\u001b[0m\u001b[1;33m.\u001b[0m\u001b[0mtrain\u001b[0m\u001b[1;33m(\u001b[0m\u001b[0mtop_5_train_elec\u001b[0m\u001b[1;33m[\u001b[0m\u001b[0mbuilding\u001b[0m\u001b[1;33m]\u001b[0m\u001b[1;33m,\u001b[0m \u001b[0msample_period\u001b[0m\u001b[1;33m=\u001b[0m\u001b[0msample_period\u001b[0m\u001b[1;33m)\u001b[0m\u001b[1;33m\u001b[0m\u001b[1;33m\u001b[0m\u001b[0m\n\u001b[0m\u001b[0;32m     12\u001b[0m \u001b[1;33m\u001b[0m\u001b[0m\n\u001b[0;32m     13\u001b[0m     \u001b[0mgt\u001b[0m\u001b[1;33m,\u001b[0m \u001b[0mprediction\u001b[0m \u001b[1;33m=\u001b[0m \u001b[0mpredict\u001b[0m\u001b[1;33m(\u001b[0m\u001b[0mfhmm\u001b[0m\u001b[1;33m,\u001b[0m \u001b[0mtest_elec\u001b[0m\u001b[1;33m[\u001b[0m\u001b[0mbuilding\u001b[0m\u001b[1;33m]\u001b[0m\u001b[1;33m,\u001b[0m \u001b[0msample_period\u001b[0m\u001b[1;33m,\u001b[0m \u001b[0mtrain\u001b[0m\u001b[1;33m.\u001b[0m\u001b[0mmetadata\u001b[0m\u001b[1;33m[\u001b[0m\u001b[1;34m'timezone'\u001b[0m\u001b[1;33m]\u001b[0m\u001b[1;33m)\u001b[0m\u001b[1;33m\u001b[0m\u001b[1;33m\u001b[0m\u001b[0m\n",
      "\u001b[1;32m~\\anaconda3\\envs\\nilmtk-env\\lib\\site-packages\\nilmtk\\legacy\\disaggregate\\fhmm_exact.py\u001b[0m in \u001b[0;36mtrain\u001b[1;34m(self, metergroup, num_states_dict, **load_kwargs)\u001b[0m\n\u001b[0;32m    362\u001b[0m             \u001b[0mself\u001b[0m\u001b[1;33m.\u001b[0m\u001b[0mmeters\u001b[0m\u001b[1;33m.\u001b[0m\u001b[0mappend\u001b[0m\u001b[1;33m(\u001b[0m\u001b[0mmeter\u001b[0m\u001b[1;33m)\u001b[0m\u001b[1;33m\u001b[0m\u001b[1;33m\u001b[0m\u001b[0m\n\u001b[0;32m    363\u001b[0m \u001b[1;33m\u001b[0m\u001b[0m\n\u001b[1;32m--> 364\u001b[1;33m         \u001b[0mlearnt_model_combined\u001b[0m \u001b[1;33m=\u001b[0m \u001b[0mcreate_combined_hmm\u001b[0m\u001b[1;33m(\u001b[0m\u001b[0mnew_learnt_models\u001b[0m\u001b[1;33m)\u001b[0m\u001b[1;33m\u001b[0m\u001b[1;33m\u001b[0m\u001b[0m\n\u001b[0m\u001b[0;32m    365\u001b[0m         \u001b[0mself\u001b[0m\u001b[1;33m.\u001b[0m\u001b[0mindividual\u001b[0m \u001b[1;33m=\u001b[0m \u001b[0mnew_learnt_models\u001b[0m\u001b[1;33m\u001b[0m\u001b[1;33m\u001b[0m\u001b[0m\n\u001b[0;32m    366\u001b[0m         \u001b[0mself\u001b[0m\u001b[1;33m.\u001b[0m\u001b[0mmodel\u001b[0m \u001b[1;33m=\u001b[0m \u001b[0mlearnt_model_combined\u001b[0m\u001b[1;33m\u001b[0m\u001b[1;33m\u001b[0m\u001b[0m\n",
      "\u001b[1;32m~\\anaconda3\\envs\\nilmtk-env\\lib\\site-packages\\nilmtk\\legacy\\disaggregate\\fhmm_exact.py\u001b[0m in \u001b[0;36mcreate_combined_hmm\u001b[1;34m(model)\u001b[0m\n\u001b[0;32m    113\u001b[0m                   for appliance in model]\n\u001b[0;32m    114\u001b[0m \u001b[1;33m\u001b[0m\u001b[0m\n\u001b[1;32m--> 115\u001b[1;33m     \u001b[0mpi_combined\u001b[0m \u001b[1;33m=\u001b[0m \u001b[0mcompute_pi_fhmm\u001b[0m\u001b[1;33m(\u001b[0m\u001b[0mlist_pi\u001b[0m\u001b[1;33m)\u001b[0m\u001b[1;33m\u001b[0m\u001b[1;33m\u001b[0m\u001b[0m\n\u001b[0m\u001b[0;32m    116\u001b[0m     \u001b[0mA_combined\u001b[0m \u001b[1;33m=\u001b[0m \u001b[0mcompute_A_fhmm\u001b[0m\u001b[1;33m(\u001b[0m\u001b[0mlist_A\u001b[0m\u001b[1;33m)\u001b[0m\u001b[1;33m\u001b[0m\u001b[1;33m\u001b[0m\u001b[0m\n\u001b[0;32m    117\u001b[0m     \u001b[1;33m[\u001b[0m\u001b[0mmean_combined\u001b[0m\u001b[1;33m,\u001b[0m \u001b[0mcov_combined\u001b[0m\u001b[1;33m]\u001b[0m \u001b[1;33m=\u001b[0m \u001b[0mcompute_means_fhmm\u001b[0m\u001b[1;33m(\u001b[0m\u001b[0mlist_means\u001b[0m\u001b[1;33m)\u001b[0m\u001b[1;33m\u001b[0m\u001b[1;33m\u001b[0m\u001b[0m\n",
      "\u001b[1;32m~\\anaconda3\\envs\\nilmtk-env\\lib\\site-packages\\nilmtk\\legacy\\disaggregate\\fhmm_exact.py\u001b[0m in \u001b[0;36mcompute_pi_fhmm\u001b[1;34m(list_pi)\u001b[0m\n\u001b[0;32m    101\u001b[0m     \u001b[0mresult\u001b[0m \u001b[1;33m:\u001b[0m \u001b[0mCombined\u001b[0m \u001b[0mPi\u001b[0m \u001b[1;32mfor\u001b[0m \u001b[0mthe\u001b[0m \u001b[0mFHMM\u001b[0m\u001b[1;33m\u001b[0m\u001b[1;33m\u001b[0m\u001b[0m\n\u001b[0;32m    102\u001b[0m     \"\"\"\n\u001b[1;32m--> 103\u001b[1;33m     \u001b[0mresult\u001b[0m \u001b[1;33m=\u001b[0m \u001b[0mlist_pi\u001b[0m\u001b[1;33m[\u001b[0m\u001b[1;36m0\u001b[0m\u001b[1;33m]\u001b[0m\u001b[1;33m\u001b[0m\u001b[1;33m\u001b[0m\u001b[0m\n\u001b[0m\u001b[0;32m    104\u001b[0m     \u001b[1;32mfor\u001b[0m \u001b[0mi\u001b[0m \u001b[1;32min\u001b[0m \u001b[0mrange\u001b[0m\u001b[1;33m(\u001b[0m\u001b[0mlen\u001b[0m\u001b[1;33m(\u001b[0m\u001b[0mlist_pi\u001b[0m\u001b[1;33m)\u001b[0m \u001b[1;33m-\u001b[0m \u001b[1;36m1\u001b[0m\u001b[1;33m)\u001b[0m\u001b[1;33m:\u001b[0m\u001b[1;33m\u001b[0m\u001b[1;33m\u001b[0m\u001b[0m\n\u001b[0;32m    105\u001b[0m         \u001b[0mresult\u001b[0m \u001b[1;33m=\u001b[0m \u001b[0mnp\u001b[0m\u001b[1;33m.\u001b[0m\u001b[0mkron\u001b[0m\u001b[1;33m(\u001b[0m\u001b[0mresult\u001b[0m\u001b[1;33m,\u001b[0m \u001b[0mlist_pi\u001b[0m\u001b[1;33m[\u001b[0m\u001b[0mi\u001b[0m \u001b[1;33m+\u001b[0m \u001b[1;36m1\u001b[0m\u001b[1;33m]\u001b[0m\u001b[1;33m)\u001b[0m\u001b[1;33m\u001b[0m\u001b[1;33m\u001b[0m\u001b[0m\n",
      "\u001b[1;31mIndexError\u001b[0m: list index out of range"
     ]
    }
   ],
   "source": [
    "sample_period = 120 \n",
    "predictions = []\n",
    "gts = []\n",
    "fhmm = FHMM()\n",
    "\n",
    "for building in buildings:\n",
    "    print('*' * 20 )\n",
    "    print('Casa : {}'.format(building))\n",
    "    print('Usando o metodo FHHM...')\n",
    "    print('*' * 20 )\n",
    "    fhmm.train(top_5_train_elec[building], sample_period=sample_period)\n",
    "    \n",
    "    gt, prediction = predict(fhmm, test_elec[building], sample_period, train.metadata['timezone'])\n",
    "    gts.append(gt)\n",
    "    predictions.append(prediction)"
   ]
  },
  {
   "cell_type": "code",
   "execution_count": 22,
   "metadata": {
    "scrolled": false
   },
   "outputs": [
    {
     "ename": "AttributeError",
     "evalue": "'str' object has no attribute 'label'",
     "output_type": "error",
     "traceback": [
      "\u001b[1;31m---------------------------------------------------------------------------\u001b[0m",
      "\u001b[1;31mAttributeError\u001b[0m                            Traceback (most recent call last)",
      "\u001b[1;32m<ipython-input-22-acac293dce2e>\u001b[0m in \u001b[0;36m<module>\u001b[1;34m\u001b[0m\n\u001b[0;32m      1\u001b[0m \u001b[1;32mfor\u001b[0m \u001b[0mi\u001b[0m \u001b[1;32min\u001b[0m \u001b[0mrange\u001b[0m\u001b[1;33m(\u001b[0m\u001b[1;36m5\u001b[0m\u001b[1;33m)\u001b[0m\u001b[1;33m:\u001b[0m\u001b[1;33m\u001b[0m\u001b[1;33m\u001b[0m\u001b[0m\n\u001b[1;32m----> 2\u001b[1;33m     \u001b[0mappliance_labels\u001b[0m \u001b[1;33m=\u001b[0m \u001b[1;33m[\u001b[0m\u001b[0mm\u001b[0m\u001b[1;33m.\u001b[0m\u001b[0mlabel\u001b[0m\u001b[1;33m(\u001b[0m\u001b[1;33m)\u001b[0m \u001b[1;32mfor\u001b[0m \u001b[0mm\u001b[0m \u001b[1;32min\u001b[0m \u001b[0mgts\u001b[0m\u001b[1;33m[\u001b[0m\u001b[0mi\u001b[0m\u001b[1;33m]\u001b[0m\u001b[1;33m.\u001b[0m\u001b[0mcolumns\u001b[0m\u001b[1;33m.\u001b[0m\u001b[0mvalues\u001b[0m\u001b[1;33m]\u001b[0m\u001b[1;33m\u001b[0m\u001b[1;33m\u001b[0m\u001b[0m\n\u001b[0m\u001b[0;32m      3\u001b[0m     \u001b[0mgts\u001b[0m\u001b[1;33m[\u001b[0m\u001b[0mi\u001b[0m\u001b[1;33m]\u001b[0m\u001b[1;33m.\u001b[0m\u001b[0mcolumns\u001b[0m \u001b[1;33m=\u001b[0m \u001b[0mappliance_labels\u001b[0m\u001b[1;33m\u001b[0m\u001b[1;33m\u001b[0m\u001b[0m\n\u001b[0;32m      4\u001b[0m     \u001b[0mpredictions\u001b[0m\u001b[1;33m[\u001b[0m\u001b[0mi\u001b[0m\u001b[1;33m]\u001b[0m\u001b[1;33m.\u001b[0m\u001b[0mcolumns\u001b[0m \u001b[1;33m=\u001b[0m \u001b[0mappliance_labels\u001b[0m\u001b[1;33m\u001b[0m\u001b[1;33m\u001b[0m\u001b[0m\n",
      "\u001b[1;32m<ipython-input-22-acac293dce2e>\u001b[0m in \u001b[0;36m<listcomp>\u001b[1;34m(.0)\u001b[0m\n\u001b[0;32m      1\u001b[0m \u001b[1;32mfor\u001b[0m \u001b[0mi\u001b[0m \u001b[1;32min\u001b[0m \u001b[0mrange\u001b[0m\u001b[1;33m(\u001b[0m\u001b[1;36m5\u001b[0m\u001b[1;33m)\u001b[0m\u001b[1;33m:\u001b[0m\u001b[1;33m\u001b[0m\u001b[1;33m\u001b[0m\u001b[0m\n\u001b[1;32m----> 2\u001b[1;33m     \u001b[0mappliance_labels\u001b[0m \u001b[1;33m=\u001b[0m \u001b[1;33m[\u001b[0m\u001b[0mm\u001b[0m\u001b[1;33m.\u001b[0m\u001b[0mlabel\u001b[0m\u001b[1;33m(\u001b[0m\u001b[1;33m)\u001b[0m \u001b[1;32mfor\u001b[0m \u001b[0mm\u001b[0m \u001b[1;32min\u001b[0m \u001b[0mgts\u001b[0m\u001b[1;33m[\u001b[0m\u001b[0mi\u001b[0m\u001b[1;33m]\u001b[0m\u001b[1;33m.\u001b[0m\u001b[0mcolumns\u001b[0m\u001b[1;33m.\u001b[0m\u001b[0mvalues\u001b[0m\u001b[1;33m]\u001b[0m\u001b[1;33m\u001b[0m\u001b[1;33m\u001b[0m\u001b[0m\n\u001b[0m\u001b[0;32m      3\u001b[0m     \u001b[0mgts\u001b[0m\u001b[1;33m[\u001b[0m\u001b[0mi\u001b[0m\u001b[1;33m]\u001b[0m\u001b[1;33m.\u001b[0m\u001b[0mcolumns\u001b[0m \u001b[1;33m=\u001b[0m \u001b[0mappliance_labels\u001b[0m\u001b[1;33m\u001b[0m\u001b[1;33m\u001b[0m\u001b[0m\n\u001b[0;32m      4\u001b[0m     \u001b[0mpredictions\u001b[0m\u001b[1;33m[\u001b[0m\u001b[0mi\u001b[0m\u001b[1;33m]\u001b[0m\u001b[1;33m.\u001b[0m\u001b[0mcolumns\u001b[0m \u001b[1;33m=\u001b[0m \u001b[0mappliance_labels\u001b[0m\u001b[1;33m\u001b[0m\u001b[1;33m\u001b[0m\u001b[0m\n",
      "\u001b[1;31mAttributeError\u001b[0m: 'str' object has no attribute 'label'"
     ]
    }
   ],
   "source": [
    "for i in range(5):\n",
    "    appliance_labels = [m.label() for m in gts[i].columns.values]\n",
    "    gts[i].columns = appliance_labels\n",
    "    predictions[i].columns = appliance_labels"
   ]
  },
  {
   "cell_type": "code",
   "execution_count": 24,
   "metadata": {},
   "outputs": [
    {
     "name": "stdout",
     "output_type": "stream",
     "text": [
      "Index(['Fridge', 'Light', 'Sockets', 'Microwave', 'Dish washer'], dtype='object')\n"
     ]
    }
   ],
   "source": [
    "print(predictions[0].columns)"
   ]
  },
  {
   "cell_type": "code",
   "execution_count": null,
   "metadata": {
    "scrolled": true
   },
   "outputs": [],
   "source": [
    "for i in range(3):\n",
    "    plt.subplots(1)\n",
    "    predictions[i]['Fridge'].head(300).plot(label=\"Pred\")\n",
    "    gts[i]['Fridge'].head(300).plot(label=\"GT\")\n",
    "    plt.legend()\n"
   ]
  },
  {
   "cell_type": "code",
   "execution_count": null,
   "metadata": {},
   "outputs": [],
   "source": [
    "#Imprimindo todas as predições feitas para a casa 1\n",
    "'''for building in range(3):\n",
    "    for appliance in predictions[building]:\n",
    "        plt.subplots(1)\n",
    "        predictions[building][appliance].head(300).plot(label=appliance)\n",
    "        gts[building][appliance].head(300).plot(label=\"GT\")\n",
    "        plt.legend()'''\n",
    "predictions[0]['Sockets']"
   ]
  },
  {
   "cell_type": "code",
   "execution_count": null,
   "metadata": {},
   "outputs": [],
   "source": [
    "#testar as aplicações em 36 segundos\n",
    "#Amostra retiradas da casa \n",
    "\n",
    "\n",
    "casa_1 = 0\n",
    "sample_period = 72 #faz o down_sample para amostras a cada 36 segundos pq as as amostras são de 3 ou 4 segundos\n",
    "predictions = []\n",
    "gts = []\n",
    "fhmm = FHMM()\n",
    "fhmm.train(top_5_train_elec[casa_1], sample_period=sample_period)\n",
    "gt, prediction = predict(fhmm, test_elec[casa_1], sample_period, train.metadata['timezone'])\n",
    "    "
   ]
  },
  {
   "cell_type": "code",
   "execution_count": null,
   "metadata": {},
   "outputs": [],
   "source": [
    "def imprime_casa():\n",
    "    appliance_labels = [m.label() for m in gt.columns.values]\n",
    "    gt.columns = appliance_labels\n",
    "    prediction.columns = appliance_labels\n",
    "\n",
    "    #Imprime as medições\n",
    "    for appliance in prediction:\n",
    "            plt.subplots(1)\n",
    "            prediction[appliance].head(300).plot(label=appliance)\n",
    "            gt[appliance].head(300).plot(label=\"GT\")\n",
    "            plt.legend()"
   ]
  },
  {
   "cell_type": "code",
   "execution_count": null,
   "metadata": {},
   "outputs": [],
   "source": [
    "imprime_casa()"
   ]
  },
  {
   "cell_type": "code",
   "execution_count": null,
   "metadata": {},
   "outputs": [],
   "source": [
    "#testar as aplicações em 24 segundos para todos os algoritmos no NILMTK\n",
    "#Amostra retiradas da casa \n",
    "\n",
    "\n",
    "casa_1 = 0\n",
    "sample_period = 48 #faz o down_sample para amostras a cada 24 segundos pq as as amostras são de 3 ou 4 segundos\n",
    "predictions = []\n",
    "gts = []\n",
    "fhmm = FHMM()\n",
    "fhmm.train(top_5_train_elec[casa_1], sample_period=sample_period)\n",
    "gt, prediction = predict(fhmm, test_elec[casa_1], sample_period, train.metadata['timezone'])\n",
    "    "
   ]
  },
  {
   "cell_type": "code",
   "execution_count": null,
   "metadata": {},
   "outputs": [],
   "source": [
    "imprime_casa()\n",
    "        "
   ]
  },
  {
   "cell_type": "code",
   "execution_count": null,
   "metadata": {},
   "outputs": [],
   "source": [
    "#CombinatorialOptimisation\n",
    "sample_period = 48 #faz o down_sample para amostras a cada 24 segundos pq as as amostras são de 3 ou 4 segundos\n",
    "predictions = []\n",
    "gts = []\n",
    "co = CombinatorialOptimisation()\n",
    "co.train(top_5_train_elec[casa_1], sample_period=sample_period)\n",
    "gt, prediction = predict(co, test_elec[casa_1], sample_period, train.metadata['timezone'])"
   ]
  },
  {
   "cell_type": "code",
   "execution_count": null,
   "metadata": {},
   "outputs": [],
   "source": [
    "imprime_casa()"
   ]
  },
  {
   "cell_type": "code",
   "execution_count": null,
   "metadata": {},
   "outputs": [],
   "source": [
    "#Treinar com poucos dias\n",
    "train.set_window(end=\"2011-04-19\")\n",
    "test.set_window(start=\"2011-04-19\")\n",
    "\n",
    "train_casa_1 = train.buildings[1].elec\n",
    "test_casa_1 = test.buildings[1].elec\n",
    "\n",
    "top_5_casa_1 = train_casa_1.submeters().select_top_k(k=5)\n",
    "\n",
    "sample_period = 48 \n",
    "predictions = []\n",
    "gts = []\n",
    "fhmm = FHMM()\n",
    "\n",
    "fhmm.train(top_5_casa_1, sample_period=sample_period)\n",
    "gt, prediction = predict(fhmm, test_casa_1, sample_period, train.metadata['timezone'])\n",
    "\n",
    "imprime_casa()\n"
   ]
  },
  {
   "cell_type": "code",
   "execution_count": null,
   "metadata": {},
   "outputs": [],
   "source": [
    "#Treinar com poucos dias\n",
    "#Tentar usar a biblioteca tensorflow\n",
    "# The dates are interpreted by Pandas, prefer using ISO dates (yyyy-mm-dd)\n",
    "train.set_window(end=\"2011-04-25\")\n",
    "test.set_window(start=\"2011-04-25\")\n",
    "\n",
    "train_casa_1 = train.buildings[1].elec\n",
    "test_casa_1 = test.buildings[1].elec\n",
    "\n",
    "top_5_casa_1 = train_casa_1.submeters().select_top_k(k=5)\n",
    "\n",
    "sample_period = 48 \n",
    "predictions = []\n",
    "gts = []\n",
    "fhmm = FHMM()\n",
    "\n",
    "fhmm.train(top_5_casa_1, sample_period=sample_period)\n",
    "gt, prediction = predict(fhmm, test_casa_1, sample_period, train.metadata['timezone'])\n",
    "\n",
    "imprime_casa()\n"
   ]
  },
  {
   "cell_type": "code",
   "execution_count": null,
   "metadata": {},
   "outputs": [],
   "source": [
    "#Treinar com poucos dias\n",
    "#Tentar usar a biblioteca tensorflow\n",
    "train.set_window(end=\"2011-05-10\")\n",
    "test.set_window(start=\"2011-05-10\")\n",
    "\n",
    "train_casa_1 = train.buildings[1].elec\n",
    "test_casa_1 = test.buildings[1].elec\n",
    "\n",
    "top_5_casa_1 = train_casa_1.submeters().select_top_k(k=5)\n",
    "\n",
    "sample_period = 48 \n",
    "predictions = []\n",
    "gts = []\n",
    "fhmm = FHMM()\n",
    "\n",
    "fhmm.train(top_5_casa_1, sample_period=sample_period)\n",
    "gt, prediction = predict(fhmm, test_casa_1, sample_period, train.metadata['timezone'])\n",
    "\n",
    "imprime_casa()"
   ]
  },
  {
   "cell_type": "code",
   "execution_count": null,
   "metadata": {},
   "outputs": [],
   "source": [
    "#Definição de uma função que é capaz de encontrar o valor da energia predita em cada caso\n",
    "prediction"
   ]
  },
  {
   "cell_type": "code",
   "execution_count": null,
   "metadata": {},
   "outputs": [],
   "source": [
    "top_5_casa_1.energy_per_meter()"
   ]
  },
  {
   "cell_type": "code",
   "execution_count": null,
   "metadata": {},
   "outputs": [],
   "source": [
    "from nilmtk.stats.totalenergy import _energy_for_power_series\n",
    "objetos = ['Fridge', 'Light', 'Washer dryer', 'Sockets', 'Dish washer']\n",
    "energias = {}\n",
    "\n",
    "for objeto in objetos:\n",
    "    aux = _energy_for_power_series(prediction.loc[:, objeto], 60)\n",
    "    energias[objeto] = aux\n",
    "\n",
    "energias"
   ]
  },
  {
   "cell_type": "code",
   "execution_count": null,
   "metadata": {},
   "outputs": [],
   "source": [
    "\n"
   ]
  },
  {
   "cell_type": "code",
   "execution_count": null,
   "metadata": {},
   "outputs": [],
   "source": []
  }
 ],
 "metadata": {
  "kernelspec": {
   "display_name": "Python 3",
   "language": "python",
   "name": "python3"
  },
  "language_info": {
   "codemirror_mode": {
    "name": "ipython",
    "version": 3
   },
   "file_extension": ".py",
   "mimetype": "text/x-python",
   "name": "python",
   "nbconvert_exporter": "python",
   "pygments_lexer": "ipython3",
   "version": "3.6.10"
  }
 },
 "nbformat": 4,
 "nbformat_minor": 4
}
