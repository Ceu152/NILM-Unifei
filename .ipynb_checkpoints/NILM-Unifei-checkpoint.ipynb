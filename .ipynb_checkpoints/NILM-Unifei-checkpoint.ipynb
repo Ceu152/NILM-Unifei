{
 "cells": [
  {
   "cell_type": "code",
   "execution_count": 1,
   "metadata": {},
   "outputs": [],
   "source": [
    "#Este projeto treina usando todas as casas e usando o método \n",
    "from __future__ import print_function, division\n",
    "import time\n",
    "from matplotlib import rcParams\n",
    "import matplotlib.pyplot as plt\n",
    "import pandas as pd\n",
    "import numpy as np\n",
    "from six import iteritems\n",
    "from nilmtk import DataSet, TimeFrame, MeterGroup, HDFDataStore\n",
    "from nilmtk.legacy.disaggregate import CombinatorialOptimisation, FHMM\n",
    "import nilmtk.utils\n",
    "\n",
    "\n",
    "%matplotlib inline\n",
    "\n",
    "#Tamanho das figuras\n",
    "rcParams['figure.figsize'] = (13, 6)"
   ]
  },
  {
   "cell_type": "code",
   "execution_count": 2,
   "metadata": {
    "scrolled": true
   },
   "outputs": [
    {
     "name": "stdout",
     "output_type": "stream",
     "text": [
      "<nilmtk.datastore.hdfdatastore.HDFDataStore object at 0x00000141B06060B8>\n",
      "[1, 2, 3]\n",
      "Loading house 1... [1, 2, 3]\n",
      "1 2 3 \n",
      "Loading house 2... [1, 2, 3]\n",
      "1 2 3 \n",
      "Loading house 3... [1, 2, 3]\n",
      "1 2 3 \n",
      "Done convert...\n",
      "C:\\Users\\Leona\\anaconda3\\envs\\nilmtk-env\\lib\\site-packages\\nilmtk\n",
      "C:\\Users\\Leona\\anaconda3\\envs\\nilmtk-env\\lib\\site-packages\\nilmtk\\dataset_converters\\unifei\\metadata\n",
      "Loaded metadata\n",
      "{'SM_W_Lite': {'model': 'SM_W_Lite', 'manufacturer': 'IETECNOLOGIA', 'manufacturer_url': 'https://ietecnologia.com/', 'description': 'Medidor de energia monofásico wifi modelo SM-W Lite; Tenha em mãos os gastos de sua casa em tempo real, 24 horas por dia; Apresenta em tempo real os gráficos de corrente [A], Consumo [kWh] e Consumo [R$]; Equipamento Nacional; Mostra em tempo real o quanto sua casa está consumindo em reais\\n', 'sample_period': 5, 'max_sample_period': 50, 'measurements': [{'physical_quantity': 'power', 'type': 'active', 'upper_limit': 5000, 'lower_limit': 0}], 'wireless': True}, 'SM_3W': {'model': 'SM_3W', 'manufacturer': 'IETECNOLOGIA', 'manufacturer_url': 'https://ietecnologia.com/', 'description': 'Medidor de energia trifásico wifi modelo SM-3W; Tenha em mãos os gastos de sua empresa em tempo real, 24 horas por dia; Apresenta em tempo real os gráficos de Consumo [kWh], Consumo [R$], Demanda e Fator de Potência. Equipamento Nacional; Mostra em tempo real o quanto sua empresa está consumindo em reais;\\n', 'sample_period': 5, 'max_sample_period': 50, 'measurements': [{'physical_quantity': 'power', 'type': 'active', 'upper_limit': 5000, 'lower_limit': 0}], 'wireless': True}}\n",
      "{'SM_W_Lite': {'model': 'SM_W_Lite', 'manufacturer': 'IETECNOLOGIA', 'manufacturer_url': 'https://ietecnologia.com/', 'description': 'Medidor de energia monofásico wifi modelo SM-W Lite; Tenha em mãos os gastos de sua casa em tempo real, 24 horas por dia; Apresenta em tempo real os gráficos de corrente [A], Consumo [kWh] e Consumo [R$]; Equipamento Nacional; Mostra em tempo real o quanto sua casa está consumindo em reais\\n', 'sample_period': 5, 'max_sample_period': 50, 'measurements': [{'physical_quantity': 'power', 'type': 'active', 'upper_limit': 5000, 'lower_limit': 0}], 'wireless': True}, 'SM_3W': {'model': 'SM_3W', 'manufacturer': 'IETECNOLOGIA', 'manufacturer_url': 'https://ietecnologia.com/', 'description': 'Medidor de energia trifásico wifi modelo SM-3W; Tenha em mãos os gastos de sua empresa em tempo real, 24 horas por dia; Apresenta em tempo real os gráficos de Consumo [kWh], Consumo [R$], Demanda e Fator de Potência. Equipamento Nacional; Mostra em tempo real o quanto sua empresa está consumindo em reais;\\n', 'sample_period': 5, 'max_sample_period': 50, 'measurements': [{'physical_quantity': 'power', 'type': 'active', 'upper_limit': 5000, 'lower_limit': 0}], 'wireless': True}}\n",
      "{'SM_W_Lite': {'model': 'SM_W_Lite', 'manufacturer': 'IETECNOLOGIA', 'manufacturer_url': 'https://ietecnologia.com/', 'description': 'Medidor de energia monofásico wifi modelo SM-W Lite; Tenha em mãos os gastos de sua casa em tempo real, 24 horas por dia; Apresenta em tempo real os gráficos de corrente [A], Consumo [kWh] e Consumo [R$]; Equipamento Nacional; Mostra em tempo real o quanto sua casa está consumindo em reais\\n', 'sample_period': 5, 'max_sample_period': 50, 'measurements': [{'physical_quantity': 'power', 'type': 'active', 'upper_limit': 5000, 'lower_limit': 0}], 'wireless': True}, 'SM_3W': {'model': 'SM_3W', 'manufacturer': 'IETECNOLOGIA', 'manufacturer_url': 'https://ietecnologia.com/', 'description': 'Medidor de energia trifásico wifi modelo SM-3W; Tenha em mãos os gastos de sua empresa em tempo real, 24 horas por dia; Apresenta em tempo real os gráficos de Consumo [kWh], Consumo [R$], Demanda e Fator de Potência. Equipamento Nacional; Mostra em tempo real o quanto sua empresa está consumindo em reais;\\n', 'sample_period': 5, 'max_sample_period': 50, 'measurements': [{'physical_quantity': 'power', 'type': 'active', 'upper_limit': 5000, 'lower_limit': 0}], 'wireless': True}}\n",
      "Done converting YAML metadata to HDF5!\n",
      "Done converting REDD to HDF5!\n"
     ]
    },
    {
     "data": {
      "text/html": [
       "<ul><li><strong>name</strong>: Unifei</li><li><strong>long_name</strong>: Projeto de Desagregação de Cargas Unifei</li><li><strong>creators</strong>: <ul><li>Melo, Leonardo.</li><li>Alves, Fabricio.</li></ul></li><li><strong>publication_date</strong>: 2020</li><li><strong>institution</strong>: Universidade Federal de Itajubá (Unifei)</li><li><strong>contact</strong>: leonardomelo@unifei.edu.br</li><li><strong>description</strong>: Projeto para medição de aparelhos em uma localidade através de um medidor conectado pro wi-fi.</li><li><strong>subject</strong>: Desagregação de energia em residencias.</li><li><strong>number_of_buildings</strong>: 3</li><li><strong>timezone</strong>: America/Sao_Paulo</li><li><strong>geo_location</strong>: <ul><li><strong>locality</strong>: Itajubá</li><li><strong>country</strong>: BR</li><li><strong>latitude</strong>: -22.4269</li><li><strong>longitude</strong>: -45.453</li></ul></li><li><strong>related_documents</strong>: <ul><li>{'Site do projeto': 'unifeienergia.ml'}</li><li>{'Projeto do conversor baseado nos projetos abaixo': None}</li><li><a href=\"http://redd.csail.mit.edu\">http://redd.csail.mit.edu</a></li><li>J. Zico Kolter and Matthew J. Johnson. REDD: A public data set for energy disaggregation research. In proceedings of the SustKDD workshop on Data Mining Applications in Sustainability, 2011. <a href=\"http://redd.csail.mit.edu/kolter-kddsust11.pdf\">http://redd.csail.mit.edu/kolter-kddsust11.pdf</a>\n",
       "</li></ul></li><li><strong>schema</strong>: <a href=\"https://github.com/nilmtk/nilm_metadata/tree/v0.2\">https://github.com/nilmtk/nilm_metadata/tree/v0.2</a></li><li><strong>meter_devices</strong>: <ul><li><strong>SM_W_Lite</strong>: <ul><li><strong>model</strong>: SM_W_Lite</li><li><strong>manufacturer</strong>: IETECNOLOGIA</li><li><strong>manufacturer_url</strong>: <a href=\"https://ietecnologia.com/\">https://ietecnologia.com/</a></li><li><strong>description</strong>: Medidor de energia monofásico wifi modelo SM-W Lite; Tenha em mãos os gastos de sua casa em tempo real, 24 horas por dia; Apresenta em tempo real os gráficos de corrente [A], Consumo [kWh] e Consumo [R$]; Equipamento Nacional; Mostra em tempo real o quanto sua casa está consumindo em reais\n",
       "</li><li><strong>sample_period</strong>: 5</li><li><strong>max_sample_period</strong>: 50</li><li><strong>measurements</strong>: <ul><li>{'physical_quantity': 'power', 'type': 'active', 'upper_limit': 5000, 'lower_limit': 0}</li></ul></li><li><strong>wireless</strong>: True</li></ul></li><li><strong>SM_3W</strong>: <ul><li><strong>model</strong>: SM_3W</li><li><strong>manufacturer</strong>: IETECNOLOGIA</li><li><strong>manufacturer_url</strong>: <a href=\"https://ietecnologia.com/\">https://ietecnologia.com/</a></li><li><strong>description</strong>: Medidor de energia trifásico wifi modelo SM-3W; Tenha em mãos os gastos de sua empresa em tempo real, 24 horas por dia; Apresenta em tempo real os gráficos de Consumo [kWh], Consumo [R$], Demanda e Fator de Potência. Equipamento Nacional; Mostra em tempo real o quanto sua empresa está consumindo em reais;\n",
       "</li><li><strong>sample_period</strong>: 5</li><li><strong>max_sample_period</strong>: 50</li><li><strong>measurements</strong>: <ul><li>{'physical_quantity': 'power', 'type': 'active', 'upper_limit': 5000, 'lower_limit': 0}</li></ul></li><li><strong>wireless</strong>: True</li></ul></li></ul></li></ul>"
      ],
      "text/plain": [
       "<IPython.core.display.HTML object>"
      ]
     },
     "metadata": {},
     "output_type": "display_data"
    }
   ],
   "source": [
    "#Demonstração do funcionamento do nosso banco de dados\n",
    "import unifei\n",
    "from unifei.convert_unifei import convert_unifei\n",
    "from nilmtk.utils import print_dict\n",
    "\n",
    "convert_unifei(r'medicao_unifei', 'banco_unifei04.h5', 'CSV')\n",
    "\n",
    "unifei = DataSet('banco_unifei04.h5')\n",
    "print_dict(unifei.metadata)"
   ]
  },
  {
   "cell_type": "code",
   "execution_count": 3,
   "metadata": {},
   "outputs": [
    {
     "data": {
      "text/html": [
       "<ul><li><strong>1</strong>: Building(instance=1, dataset='Unifei')</li><li><strong>2</strong>: Building(instance=2, dataset='Unifei')</li><li><strong>3</strong>: Building(instance=3, dataset='Unifei')</li></ul>"
      ],
      "text/plain": [
       "<IPython.core.display.HTML object>"
      ]
     },
     "metadata": {},
     "output_type": "display_data"
    }
   ],
   "source": [
    "print_dict(unifei.buildings)"
   ]
  },
  {
   "cell_type": "code",
   "execution_count": 4,
   "metadata": {},
   "outputs": [
    {
     "data": {
      "text/html": [
       "<div>\n",
       "<style scoped>\n",
       "    .dataframe tbody tr th:only-of-type {\n",
       "        vertical-align: middle;\n",
       "    }\n",
       "\n",
       "    .dataframe tbody tr th {\n",
       "        vertical-align: top;\n",
       "    }\n",
       "\n",
       "    .dataframe thead tr th {\n",
       "        text-align: left;\n",
       "    }\n",
       "</style>\n",
       "<table border=\"1\" class=\"dataframe\">\n",
       "  <thead>\n",
       "  </thead>\n",
       "  <tbody>\n",
       "    <tr>\n",
       "      <th>2011-04-18 10:22:09-03:00</th>\n",
       "    </tr>\n",
       "    <tr>\n",
       "      <th>2011-04-18 10:22:10-03:00</th>\n",
       "    </tr>\n",
       "    <tr>\n",
       "      <th>2011-04-18 10:22:11-03:00</th>\n",
       "    </tr>\n",
       "    <tr>\n",
       "      <th>2011-04-18 10:22:12-03:00</th>\n",
       "    </tr>\n",
       "    <tr>\n",
       "      <th>2011-04-18 10:22:13-03:00</th>\n",
       "    </tr>\n",
       "    <tr>\n",
       "      <th>...</th>\n",
       "    </tr>\n",
       "    <tr>\n",
       "      <th>2011-05-24 16:56:58-03:00</th>\n",
       "    </tr>\n",
       "    <tr>\n",
       "      <th>2011-05-24 16:56:59-03:00</th>\n",
       "    </tr>\n",
       "    <tr>\n",
       "      <th>2011-05-24 16:57:00-03:00</th>\n",
       "    </tr>\n",
       "    <tr>\n",
       "      <th>2011-05-24 16:57:01-03:00</th>\n",
       "    </tr>\n",
       "    <tr>\n",
       "      <th>2011-05-24 16:57:02-03:00</th>\n",
       "    </tr>\n",
       "  </tbody>\n",
       "</table>\n",
       "<p>1561660 rows × 0 columns</p>\n",
       "</div>"
      ],
      "text/plain": [
       "Empty DataFrame\n",
       "Columns: []\n",
       "Index: [2011-04-18 10:22:09-03:00, 2011-04-18 10:22:10-03:00, 2011-04-18 10:22:11-03:00, 2011-04-18 10:22:12-03:00, 2011-04-18 10:22:13-03:00, 2011-04-18 10:22:14-03:00, 2011-04-18 10:22:15-03:00, 2011-04-18 10:22:16-03:00, 2011-04-18 10:22:17-03:00, 2011-04-18 10:22:18-03:00, 2011-04-18 10:22:19-03:00, 2011-04-18 10:22:20-03:00, 2011-04-18 10:22:21-03:00, 2011-04-18 10:22:22-03:00, 2011-04-18 10:22:23-03:00, 2011-04-18 10:22:24-03:00, 2011-04-18 10:22:25-03:00, 2011-04-18 10:22:26-03:00, 2011-04-18 10:22:27-03:00, 2011-04-18 10:22:28-03:00, 2011-04-18 10:22:29-03:00, 2011-04-18 10:22:30-03:00, 2011-04-18 10:22:31-03:00, 2011-04-18 10:22:32-03:00, 2011-04-18 10:22:33-03:00, 2011-04-18 10:22:34-03:00, 2011-04-18 10:22:35-03:00, 2011-04-18 10:22:36-03:00, 2011-04-18 10:22:37-03:00, 2011-04-18 10:22:38-03:00, 2011-04-18 10:22:39-03:00, 2011-04-18 10:22:40-03:00, 2011-04-18 10:22:41-03:00, 2011-04-18 10:22:42-03:00, 2011-04-18 10:22:43-03:00, 2011-04-18 10:22:44-03:00, 2011-04-18 10:22:45-03:00, 2011-04-18 10:22:46-03:00, 2011-04-18 10:22:47-03:00, 2011-04-18 10:22:48-03:00, 2011-04-18 10:22:49-03:00, 2011-04-18 10:22:50-03:00, 2011-04-18 10:22:51-03:00, 2011-04-18 10:22:52-03:00, 2011-04-18 10:22:53-03:00, 2011-04-18 10:22:54-03:00, 2011-04-18 10:22:55-03:00, 2011-04-18 10:22:56-03:00, 2011-04-18 10:22:57-03:00, 2011-04-18 10:22:58-03:00, 2011-04-18 10:22:59-03:00, 2011-04-18 10:23:00-03:00, 2011-04-18 10:23:01-03:00, 2011-04-18 10:23:02-03:00, 2011-04-18 10:23:03-03:00, 2011-04-18 10:23:04-03:00, 2011-04-18 10:23:05-03:00, 2011-04-18 10:23:06-03:00, 2011-04-18 10:23:07-03:00, 2011-04-18 10:23:08-03:00, 2011-04-18 10:23:09-03:00, 2011-04-18 10:23:10-03:00, 2011-04-18 10:23:11-03:00, 2011-04-18 10:23:12-03:00, 2011-04-18 10:23:13-03:00, 2011-04-18 10:23:14-03:00, 2011-04-18 10:23:15-03:00, 2011-04-18 10:23:16-03:00, 2011-04-18 10:23:17-03:00, 2011-04-18 10:23:18-03:00, 2011-04-18 10:23:19-03:00, 2011-04-18 10:23:20-03:00, 2011-04-18 10:23:21-03:00, 2011-04-18 10:23:22-03:00, 2011-04-18 10:23:23-03:00, 2011-04-18 10:23:24-03:00, 2011-04-18 10:23:25-03:00, 2011-04-18 10:23:26-03:00, 2011-04-18 10:23:27-03:00, 2011-04-18 10:23:28-03:00, 2011-04-18 10:23:29-03:00, 2011-04-18 10:23:30-03:00, 2011-04-18 10:23:31-03:00, 2011-04-18 10:23:32-03:00, 2011-04-18 10:23:33-03:00, 2011-04-18 10:23:34-03:00, 2011-04-18 10:23:35-03:00, 2011-04-18 10:23:36-03:00, 2011-04-18 10:23:37-03:00, 2011-04-18 10:23:38-03:00, 2011-04-18 10:23:39-03:00, 2011-04-18 10:23:40-03:00, 2011-04-18 10:23:41-03:00, 2011-04-18 10:23:42-03:00, 2011-04-18 10:23:43-03:00, 2011-04-18 10:23:44-03:00, 2011-04-18 10:23:45-03:00, 2011-04-18 10:23:46-03:00, 2011-04-18 10:23:47-03:00, 2011-04-18 10:23:48-03:00, ...]\n",
       "\n",
       "[1561660 rows x 0 columns]"
      ]
     },
     "execution_count": 4,
     "metadata": {},
     "output_type": "execute_result"
    }
   ],
   "source": [
    "fridge = unifei.buildings[1].elec['fridge']\n",
    "df = next(fridge.load())\n",
    "df"
   ]
  },
  {
   "cell_type": "code",
   "execution_count": 80,
   "metadata": {
    "scrolled": true
   },
   "outputs": [],
   "source": [
    "#from redd.convert_redd import convert_redd\n",
    "#convert_redd(r'low_freq', 'redd.h5')"
   ]
  },
  {
   "cell_type": "code",
   "execution_count": 82,
   "metadata": {},
   "outputs": [
    {
     "data": {
      "text/plain": [
       "[ElecMeter(instance=1, building=3, dataset='Unifei', site_meter, appliances=[]),\n",
       " ElecMeter(instance=2, building=3, dataset='Unifei', appliances=[Appliance(type='fridge', instance=1)]),\n",
       " ElecMeter(instance=3, building=3, dataset='Unifei', appliances=[Appliance(type='electric shower heater', instance=1)])]"
      ]
     },
     "execution_count": 82,
     "metadata": {},
     "output_type": "execute_result"
    }
   ],
   "source": [
    "#Carrega os dados na memória\n",
    "train = DataSet('banco_unifei03.h5')\n",
    "test = DataSet('banco_unifei03.h5')\n",
    "\n",
    "train.buildings[3].elec.meters"
   ]
  },
  {
   "cell_type": "code",
   "execution_count": 83,
   "metadata": {},
   "outputs": [],
   "source": [
    "#Enumera todas as casas\n",
    "buildings = [ i for i in range(3)]"
   ]
  },
  {
   "cell_type": "code",
   "execution_count": 84,
   "metadata": {},
   "outputs": [],
   "source": [
    "# The dates are interpreted by Pandas, prefer using ISO dates (yyyy-mm-dd)\n",
    "train.set_window(end=\"2020-10-29\")\n",
    "test.set_window(start=\"2020-10-30\")\n",
    "\n",
    "#Vetor que guarda os dados de todas as casas\n",
    "train_elec = [None for i in range(3)]\n",
    "test_elec = [None for i in range(3)]\n",
    "\n",
    "for building in buildings:\n",
    "    train_elec[building] = train.buildings[building+1].elec\n",
    "    test_elec[building] = test.buildings[building+1].elec"
   ]
  },
  {
   "cell_type": "code",
   "execution_count": 86,
   "metadata": {},
   "outputs": [
    {
     "data": {
      "text/plain": [
       "ElecMeter(instance=1, building=1, dataset='Unifei', site_meter, appliances=[])"
      ]
     },
     "execution_count": 86,
     "metadata": {},
     "output_type": "execute_result"
    }
   ],
   "source": [
    "#Este valor é dado em kwh\n",
    "test_elec[0].mains()"
   ]
  },
  {
   "cell_type": "code",
   "execution_count": 92,
   "metadata": {},
   "outputs": [
    {
     "name": "stdout",
     "output_type": "stream",
     "text": [
      "2/2 ElecMeter(instance=3, building=3, dataset='Unifei', appliances=[Appliance(type='electric shower heater', instance=1)])"
     ]
    },
    {
     "data": {
      "text/html": [
       "<div>\n",
       "<style scoped>\n",
       "    .dataframe tbody tr th:only-of-type {\n",
       "        vertical-align: middle;\n",
       "    }\n",
       "\n",
       "    .dataframe tbody tr th {\n",
       "        vertical-align: top;\n",
       "    }\n",
       "\n",
       "    .dataframe thead th {\n",
       "        text-align: right;\n",
       "    }\n",
       "</style>\n",
       "<table border=\"1\" class=\"dataframe\">\n",
       "  <thead>\n",
       "    <tr style=\"text-align: right;\">\n",
       "      <th></th>\n",
       "      <th>(2, 3, Unifei)</th>\n",
       "      <th>(3, 3, Unifei)</th>\n",
       "    </tr>\n",
       "  </thead>\n",
       "  <tbody>\n",
       "    <tr>\n",
       "      <th>active</th>\n",
       "      <td>NaN</td>\n",
       "      <td>14.126941</td>\n",
       "    </tr>\n",
       "    <tr>\n",
       "      <th>apparent</th>\n",
       "      <td>NaN</td>\n",
       "      <td>NaN</td>\n",
       "    </tr>\n",
       "    <tr>\n",
       "      <th>reactive</th>\n",
       "      <td>NaN</td>\n",
       "      <td>NaN</td>\n",
       "    </tr>\n",
       "  </tbody>\n",
       "</table>\n",
       "</div>"
      ],
      "text/plain": [
       "          (2, 3, Unifei)  (3, 3, Unifei)\n",
       "active               NaN       14.126941\n",
       "apparent             NaN             NaN\n",
       "reactive             NaN             NaN"
      ]
     },
     "execution_count": 92,
     "metadata": {},
     "output_type": "execute_result"
    }
   ],
   "source": [
    "#Energia por cada medidor em kwh\n",
    "energy_per_meter = test_elec[2].submeters().energy_per_meter() # kWh, again\n",
    "energy_per_meter"
   ]
  },
  {
   "cell_type": "code",
   "execution_count": 93,
   "metadata": {},
   "outputs": [
    {
     "name": "stdout",
     "output_type": "stream",
     "text": [
      "2/2 ElecMeter(instance=3, building=3, dataset='Unifei', appliances=[Appliance(type='electric shower heater', instance=1)])"
     ]
    }
   ],
   "source": [
    "#Seleciona as top 5 aplicações de cada casa\n",
    "top_5_train_elec = [None for i in range(3)]\n",
    "\n",
    "for building in buildings:\n",
    "    top_5_train_elec[building] = train_elec[building].submeters().select_top_k(k=2)"
   ]
  },
  {
   "cell_type": "code",
   "execution_count": 94,
   "metadata": {},
   "outputs": [],
   "source": [
    "def predict(clf, test_elec, sample_period, timezone):\n",
    "    pred = {}\n",
    "    gt= {}\n",
    "\n",
    "    for i, chunk in enumerate(test_elec.mains().load(sample_period=sample_period)):\n",
    "        print(i)\n",
    "        chunk_drop_na = chunk.dropna()\n",
    "        pred[i] = clf.disaggregate_chunk(chunk_drop_na)\n",
    "        gt[i]={}\n",
    "\n",
    "        for meter in test_elec.submeters().meters:\n",
    "            # Only use the meters that we trained on (this saves time!)    \n",
    "            gt[i][meter] = next(meter.load(sample_period=sample_period))\n",
    "        gt[i] = pd.DataFrame({k:v.squeeze() for k,v in iteritems(gt[i]) if len(v)}, index=next(iter(gt[i].values())).index).dropna()\n",
    "        \n",
    "    # If everything can fit in memory\n",
    "    gt_overall = pd.concat(gt)\n",
    "    gt_overall.index = gt_overall.index.droplevel()\n",
    "    pred_overall = pd.concat(pred)\n",
    "    pred_overall.index = pred_overall.index.droplevel()\n",
    "    \n",
    "    \n",
    "    # Having the same order of columns\n",
    "    gt_overall = gt_overall[pred_overall.columns]\n",
    "    \n",
    "    #Intersection of index\n",
    "    gt_index_utc = gt_overall.index.tz_convert(\"UTC\")\n",
    "    pred_index_utc = pred_overall.index.tz_convert(\"UTC\")\n",
    "    common_index_utc = gt_index_utc.intersection(pred_index_utc)\n",
    "    \n",
    "    \n",
    "    common_index_local = common_index_utc.tz_convert(timezone)\n",
    "    gt_overall = gt_overall.loc[common_index_local]\n",
    "    pred_overall = pred_overall.loc[common_index_local]\n",
    "    appliance_labels = [m for m in gt_overall.columns.values]\n",
    "    gt_overall.columns = appliance_labels\n",
    "    pred_overall.columns = appliance_labels\n",
    "    \n",
    "    return gt_overall, pred_overall"
   ]
  },
  {
   "cell_type": "code",
   "execution_count": 95,
   "metadata": {},
   "outputs": [],
   "source": [
    "# Since the methods use randomized initialization, let's fix a seed here\n",
    "# to make this notebook reproducible\n",
    "import numpy.random\n",
    "numpy.random.seed(42)"
   ]
  },
  {
   "cell_type": "code",
   "execution_count": 96,
   "metadata": {},
   "outputs": [
    {
     "name": "stdout",
     "output_type": "stream",
     "text": [
      "********************\n",
      "Casa : 0\n",
      "Usando o metodo FHHM...\n",
      "********************\n"
     ]
    },
    {
     "name": "stderr",
     "output_type": "stream",
     "text": [
      "C:\\Users\\Leona\\anaconda3\\envs\\nilmtk-env\\lib\\site-packages\\nilmtk\\utils.py:502: UserWarning: Found duplicate index. Keeping first value\n",
      "  warnings.warn(\"Found duplicate index. Keeping first value\")\n"
     ]
    },
    {
     "name": "stdout",
     "output_type": "stream",
     "text": [
      "Training model for submeter 'ElecMeter(instance=3, building=1, dataset='Unifei', appliances=[Appliance(type='coffee maker', instance=1)])' with 3 states\n",
      "Submeter 'ElecMeter(instance=2, building=1, dataset='Unifei', appliances=[Appliance(type='fridge', instance=1)])' has no samples, skipping...\n",
      "0\n"
     ]
    },
    {
     "ename": "ValueError",
     "evalue": "cannot reshape array of size 0 into shape (96315,1)",
     "output_type": "error",
     "traceback": [
      "\u001b[1;31m---------------------------------------------------------------------------\u001b[0m",
      "\u001b[1;31mValueError\u001b[0m                                Traceback (most recent call last)",
      "\u001b[1;32m<ipython-input-96-5c1c65697a76>\u001b[0m in \u001b[0;36m<module>\u001b[1;34m\u001b[0m\n\u001b[0;32m     11\u001b[0m     \u001b[0mfhmm\u001b[0m\u001b[1;33m.\u001b[0m\u001b[0mtrain\u001b[0m\u001b[1;33m(\u001b[0m\u001b[0mtop_5_train_elec\u001b[0m\u001b[1;33m[\u001b[0m\u001b[0mbuilding\u001b[0m\u001b[1;33m]\u001b[0m\u001b[1;33m,\u001b[0m \u001b[0msample_period\u001b[0m\u001b[1;33m=\u001b[0m\u001b[0msample_period\u001b[0m\u001b[1;33m)\u001b[0m\u001b[1;33m\u001b[0m\u001b[1;33m\u001b[0m\u001b[0m\n\u001b[0;32m     12\u001b[0m \u001b[1;33m\u001b[0m\u001b[0m\n\u001b[1;32m---> 13\u001b[1;33m     \u001b[0mgt\u001b[0m\u001b[1;33m,\u001b[0m \u001b[0mprediction\u001b[0m \u001b[1;33m=\u001b[0m \u001b[0mpredict\u001b[0m\u001b[1;33m(\u001b[0m\u001b[0mfhmm\u001b[0m\u001b[1;33m,\u001b[0m \u001b[0mtest_elec\u001b[0m\u001b[1;33m[\u001b[0m\u001b[0mbuilding\u001b[0m\u001b[1;33m]\u001b[0m\u001b[1;33m,\u001b[0m \u001b[0msample_period\u001b[0m\u001b[1;33m,\u001b[0m \u001b[0mtrain\u001b[0m\u001b[1;33m.\u001b[0m\u001b[0mmetadata\u001b[0m\u001b[1;33m[\u001b[0m\u001b[1;34m'timezone'\u001b[0m\u001b[1;33m]\u001b[0m\u001b[1;33m)\u001b[0m\u001b[1;33m\u001b[0m\u001b[1;33m\u001b[0m\u001b[0m\n\u001b[0m\u001b[0;32m     14\u001b[0m     \u001b[0mgts\u001b[0m\u001b[1;33m.\u001b[0m\u001b[0mappend\u001b[0m\u001b[1;33m(\u001b[0m\u001b[0mgt\u001b[0m\u001b[1;33m)\u001b[0m\u001b[1;33m\u001b[0m\u001b[1;33m\u001b[0m\u001b[0m\n\u001b[0;32m     15\u001b[0m     \u001b[0mpredictions\u001b[0m\u001b[1;33m.\u001b[0m\u001b[0mappend\u001b[0m\u001b[1;33m(\u001b[0m\u001b[0mprediction\u001b[0m\u001b[1;33m)\u001b[0m\u001b[1;33m\u001b[0m\u001b[1;33m\u001b[0m\u001b[0m\n",
      "\u001b[1;32m<ipython-input-94-223387e79bc2>\u001b[0m in \u001b[0;36mpredict\u001b[1;34m(clf, test_elec, sample_period, timezone)\u001b[0m\n\u001b[0;32m      6\u001b[0m         \u001b[0mprint\u001b[0m\u001b[1;33m(\u001b[0m\u001b[0mi\u001b[0m\u001b[1;33m)\u001b[0m\u001b[1;33m\u001b[0m\u001b[1;33m\u001b[0m\u001b[0m\n\u001b[0;32m      7\u001b[0m         \u001b[0mchunk_drop_na\u001b[0m \u001b[1;33m=\u001b[0m \u001b[0mchunk\u001b[0m\u001b[1;33m.\u001b[0m\u001b[0mdropna\u001b[0m\u001b[1;33m(\u001b[0m\u001b[1;33m)\u001b[0m\u001b[1;33m\u001b[0m\u001b[1;33m\u001b[0m\u001b[0m\n\u001b[1;32m----> 8\u001b[1;33m         \u001b[0mpred\u001b[0m\u001b[1;33m[\u001b[0m\u001b[0mi\u001b[0m\u001b[1;33m]\u001b[0m \u001b[1;33m=\u001b[0m \u001b[0mclf\u001b[0m\u001b[1;33m.\u001b[0m\u001b[0mdisaggregate_chunk\u001b[0m\u001b[1;33m(\u001b[0m\u001b[0mchunk_drop_na\u001b[0m\u001b[1;33m)\u001b[0m\u001b[1;33m\u001b[0m\u001b[1;33m\u001b[0m\u001b[0m\n\u001b[0m\u001b[0;32m      9\u001b[0m         \u001b[0mgt\u001b[0m\u001b[1;33m[\u001b[0m\u001b[0mi\u001b[0m\u001b[1;33m]\u001b[0m\u001b[1;33m=\u001b[0m\u001b[1;33m{\u001b[0m\u001b[1;33m}\u001b[0m\u001b[1;33m\u001b[0m\u001b[1;33m\u001b[0m\u001b[0m\n\u001b[0;32m     10\u001b[0m \u001b[1;33m\u001b[0m\u001b[0m\n",
      "\u001b[1;32m~\\anaconda3\\envs\\nilmtk-env\\lib\\site-packages\\nilmtk\\legacy\\disaggregate\\fhmm_exact.py\u001b[0m in \u001b[0;36mdisaggregate_chunk\u001b[1;34m(self, test_mains)\u001b[0m\n\u001b[0;32m    380\u001b[0m         \u001b[0mtest_mains\u001b[0m \u001b[1;33m=\u001b[0m \u001b[0mtest_mains\u001b[0m\u001b[1;33m.\u001b[0m\u001b[0mdropna\u001b[0m\u001b[1;33m(\u001b[0m\u001b[1;33m)\u001b[0m\u001b[1;33m\u001b[0m\u001b[1;33m\u001b[0m\u001b[0m\n\u001b[0;32m    381\u001b[0m         \u001b[0mlength\u001b[0m \u001b[1;33m=\u001b[0m \u001b[0mlen\u001b[0m\u001b[1;33m(\u001b[0m\u001b[0mtest_mains\u001b[0m\u001b[1;33m.\u001b[0m\u001b[0mindex\u001b[0m\u001b[1;33m)\u001b[0m\u001b[1;33m\u001b[0m\u001b[1;33m\u001b[0m\u001b[0m\n\u001b[1;32m--> 382\u001b[1;33m         \u001b[0mtemp\u001b[0m \u001b[1;33m=\u001b[0m \u001b[0mtest_mains\u001b[0m\u001b[1;33m.\u001b[0m\u001b[0mvalues\u001b[0m\u001b[1;33m.\u001b[0m\u001b[0mreshape\u001b[0m\u001b[1;33m(\u001b[0m\u001b[0mlength\u001b[0m\u001b[1;33m,\u001b[0m \u001b[1;36m1\u001b[0m\u001b[1;33m)\u001b[0m\u001b[1;33m\u001b[0m\u001b[1;33m\u001b[0m\u001b[0m\n\u001b[0m\u001b[0;32m    383\u001b[0m         \u001b[0mlearnt_states_array\u001b[0m\u001b[1;33m.\u001b[0m\u001b[0mappend\u001b[0m\u001b[1;33m(\u001b[0m\u001b[0mself\u001b[0m\u001b[1;33m.\u001b[0m\u001b[0mmodel\u001b[0m\u001b[1;33m.\u001b[0m\u001b[0mpredict\u001b[0m\u001b[1;33m(\u001b[0m\u001b[0mtemp\u001b[0m\u001b[1;33m)\u001b[0m\u001b[1;33m)\u001b[0m\u001b[1;33m\u001b[0m\u001b[1;33m\u001b[0m\u001b[0m\n\u001b[0;32m    384\u001b[0m \u001b[1;33m\u001b[0m\u001b[0m\n",
      "\u001b[1;31mValueError\u001b[0m: cannot reshape array of size 0 into shape (96315,1)"
     ]
    }
   ],
   "source": [
    "sample_period = 120 \n",
    "predictions = []\n",
    "gts = []\n",
    "fhmm = FHMM()\n",
    "\n",
    "for building in buildings:\n",
    "    print('*' * 20 )\n",
    "    print('Casa : {}'.format(building))\n",
    "    print('Usando o metodo FHHM...')\n",
    "    print('*' * 20 )\n",
    "    fhmm.train(top_5_train_elec[building], sample_period=sample_period)\n",
    "    \n",
    "    gt, prediction = predict(fhmm, test_elec[building], sample_period, train.metadata['timezone'])\n",
    "    gts.append(gt)\n",
    "    predictions.append(prediction)"
   ]
  },
  {
   "cell_type": "code",
   "execution_count": null,
   "metadata": {
    "scrolled": false
   },
   "outputs": [],
   "source": [
    "for i in range(5):\n",
    "    appliance_labels = [m.label() for m in gts[i].columns.values]\n",
    "    gts[i].columns = appliance_labels\n",
    "    predictions[i].columns = appliance_labels"
   ]
  },
  {
   "cell_type": "code",
   "execution_count": null,
   "metadata": {},
   "outputs": [],
   "source": [
    "print(predictions[0].columns)"
   ]
  },
  {
   "cell_type": "code",
   "execution_count": null,
   "metadata": {
    "scrolled": true
   },
   "outputs": [],
   "source": [
    "for i in range(3):\n",
    "    plt.subplots(1)\n",
    "    predictions[i]['Fridge'].head(300).plot(label=\"Pred\")\n",
    "    gts[i]['Fridge'].head(300).plot(label=\"GT\")\n",
    "    plt.legend()\n"
   ]
  },
  {
   "cell_type": "code",
   "execution_count": null,
   "metadata": {},
   "outputs": [],
   "source": [
    "#Imprimindo todas as predições feitas para a casa 1\n",
    "'''for building in range(3):\n",
    "    for appliance in predictions[building]:\n",
    "        plt.subplots(1)\n",
    "        predictions[building][appliance].head(300).plot(label=appliance)\n",
    "        gts[building][appliance].head(300).plot(label=\"GT\")\n",
    "        plt.legend()'''\n",
    "predictions[0]['Sockets']"
   ]
  },
  {
   "cell_type": "code",
   "execution_count": null,
   "metadata": {},
   "outputs": [],
   "source": [
    "#testar as aplicações em 36 segundos\n",
    "#Amostra retiradas da casa \n",
    "\n",
    "\n",
    "casa_1 = 0\n",
    "sample_period = 72 #faz o down_sample para amostras a cada 36 segundos pq as as amostras são de 3 ou 4 segundos\n",
    "predictions = []\n",
    "gts = []\n",
    "fhmm = FHMM()\n",
    "fhmm.train(top_5_train_elec[casa_1], sample_period=sample_period)\n",
    "gt, prediction = predict(fhmm, test_elec[casa_1], sample_period, train.metadata['timezone'])\n",
    "    "
   ]
  },
  {
   "cell_type": "code",
   "execution_count": null,
   "metadata": {},
   "outputs": [],
   "source": [
    "def imprime_casa():\n",
    "    appliance_labels = [m.label() for m in gt.columns.values]\n",
    "    gt.columns = appliance_labels\n",
    "    prediction.columns = appliance_labels\n",
    "\n",
    "    #Imprime as medições\n",
    "    for appliance in prediction:\n",
    "            plt.subplots(1)\n",
    "            prediction[appliance].head(300).plot(label=appliance)\n",
    "            gt[appliance].head(300).plot(label=\"GT\")\n",
    "            plt.legend()"
   ]
  },
  {
   "cell_type": "code",
   "execution_count": null,
   "metadata": {},
   "outputs": [],
   "source": [
    "imprime_casa()"
   ]
  },
  {
   "cell_type": "code",
   "execution_count": null,
   "metadata": {},
   "outputs": [],
   "source": [
    "#testar as aplicações em 24 segundos para todos os algoritmos no NILMTK\n",
    "#Amostra retiradas da casa \n",
    "\n",
    "\n",
    "casa_1 = 0\n",
    "sample_period = 48 #faz o down_sample para amostras a cada 24 segundos pq as as amostras são de 3 ou 4 segundos\n",
    "predictions = []\n",
    "gts = []\n",
    "fhmm = FHMM()\n",
    "fhmm.train(top_5_train_elec[casa_1], sample_period=sample_period)\n",
    "gt, prediction = predict(fhmm, test_elec[casa_1], sample_period, train.metadata['timezone'])\n",
    "    "
   ]
  },
  {
   "cell_type": "code",
   "execution_count": 2,
   "metadata": {},
   "outputs": [
    {
     "ename": "NameError",
     "evalue": "name 'imprime_casa' is not defined",
     "output_type": "error",
     "traceback": [
      "\u001b[1;31m---------------------------------------------------------------------------\u001b[0m",
      "\u001b[1;31mNameError\u001b[0m                                 Traceback (most recent call last)",
      "\u001b[1;32m<ipython-input-2-3956fc563bc9>\u001b[0m in \u001b[0;36m<module>\u001b[1;34m\u001b[0m\n\u001b[1;32m----> 1\u001b[1;33m \u001b[0mimprime_casa\u001b[0m\u001b[1;33m(\u001b[0m\u001b[1;33m)\u001b[0m\u001b[1;33m\u001b[0m\u001b[1;33m\u001b[0m\u001b[0m\n\u001b[0m\u001b[0;32m      2\u001b[0m \u001b[1;33m\u001b[0m\u001b[0m\n",
      "\u001b[1;31mNameError\u001b[0m: name 'imprime_casa' is not defined"
     ]
    }
   ],
   "source": [
    "imprime_casa()\n",
    "        "
   ]
  },
  {
   "cell_type": "code",
   "execution_count": 3,
   "metadata": {},
   "outputs": [
    {
     "ename": "NameError",
     "evalue": "name 'top_5_train_elec' is not defined",
     "output_type": "error",
     "traceback": [
      "\u001b[1;31m---------------------------------------------------------------------------\u001b[0m",
      "\u001b[1;31mNameError\u001b[0m                                 Traceback (most recent call last)",
      "\u001b[1;32m<ipython-input-3-f6da4b3904e5>\u001b[0m in \u001b[0;36m<module>\u001b[1;34m\u001b[0m\n\u001b[0;32m      4\u001b[0m \u001b[0mgts\u001b[0m \u001b[1;33m=\u001b[0m \u001b[1;33m[\u001b[0m\u001b[1;33m]\u001b[0m\u001b[1;33m\u001b[0m\u001b[1;33m\u001b[0m\u001b[0m\n\u001b[0;32m      5\u001b[0m \u001b[0mco\u001b[0m \u001b[1;33m=\u001b[0m \u001b[0mCombinatorialOptimisation\u001b[0m\u001b[1;33m(\u001b[0m\u001b[1;33m)\u001b[0m\u001b[1;33m\u001b[0m\u001b[1;33m\u001b[0m\u001b[0m\n\u001b[1;32m----> 6\u001b[1;33m \u001b[0mco\u001b[0m\u001b[1;33m.\u001b[0m\u001b[0mtrain\u001b[0m\u001b[1;33m(\u001b[0m\u001b[0mtop_5_train_elec\u001b[0m\u001b[1;33m[\u001b[0m\u001b[0mcasa_1\u001b[0m\u001b[1;33m]\u001b[0m\u001b[1;33m,\u001b[0m \u001b[0msample_period\u001b[0m\u001b[1;33m=\u001b[0m\u001b[0msample_period\u001b[0m\u001b[1;33m)\u001b[0m\u001b[1;33m\u001b[0m\u001b[1;33m\u001b[0m\u001b[0m\n\u001b[0m\u001b[0;32m      7\u001b[0m \u001b[0mgt\u001b[0m\u001b[1;33m,\u001b[0m \u001b[0mprediction\u001b[0m \u001b[1;33m=\u001b[0m \u001b[0mpredict\u001b[0m\u001b[1;33m(\u001b[0m\u001b[0mco\u001b[0m\u001b[1;33m,\u001b[0m \u001b[0mtest_elec\u001b[0m\u001b[1;33m[\u001b[0m\u001b[0mcasa_1\u001b[0m\u001b[1;33m]\u001b[0m\u001b[1;33m,\u001b[0m \u001b[0msample_period\u001b[0m\u001b[1;33m,\u001b[0m \u001b[0mtrain\u001b[0m\u001b[1;33m.\u001b[0m\u001b[0mmetadata\u001b[0m\u001b[1;33m[\u001b[0m\u001b[1;34m'timezone'\u001b[0m\u001b[1;33m]\u001b[0m\u001b[1;33m)\u001b[0m\u001b[1;33m\u001b[0m\u001b[1;33m\u001b[0m\u001b[0m\n",
      "\u001b[1;31mNameError\u001b[0m: name 'top_5_train_elec' is not defined"
     ]
    }
   ],
   "source": [
    "#CombinatorialOptimisation\n",
    "sample_period = 48 #faz o down_sample para amostras a cada 24 segundos pq as as amostras são de 3 ou 4 segundos\n",
    "predictions = []\n",
    "gts = []\n",
    "co = CombinatorialOptimisation()\n",
    "co.train(top_5_train_elec[casa_1], sample_period=sample_period)\n",
    "gt, prediction = predict(co, test_elec[casa_1], sample_period, train.metadata['timezone'])"
   ]
  },
  {
   "cell_type": "code",
   "execution_count": 4,
   "metadata": {},
   "outputs": [
    {
     "ename": "NameError",
     "evalue": "name 'imprime_casa' is not defined",
     "output_type": "error",
     "traceback": [
      "\u001b[1;31m---------------------------------------------------------------------------\u001b[0m",
      "\u001b[1;31mNameError\u001b[0m                                 Traceback (most recent call last)",
      "\u001b[1;32m<ipython-input-4-bbb54cac7d73>\u001b[0m in \u001b[0;36m<module>\u001b[1;34m\u001b[0m\n\u001b[1;32m----> 1\u001b[1;33m \u001b[0mimprime_casa\u001b[0m\u001b[1;33m(\u001b[0m\u001b[1;33m)\u001b[0m\u001b[1;33m\u001b[0m\u001b[1;33m\u001b[0m\u001b[0m\n\u001b[0m",
      "\u001b[1;31mNameError\u001b[0m: name 'imprime_casa' is not defined"
     ]
    }
   ],
   "source": [
    "imprime_casa()"
   ]
  },
  {
   "cell_type": "code",
   "execution_count": 5,
   "metadata": {},
   "outputs": [
    {
     "ename": "NameError",
     "evalue": "name 'train' is not defined",
     "output_type": "error",
     "traceback": [
      "\u001b[1;31m---------------------------------------------------------------------------\u001b[0m",
      "\u001b[1;31mNameError\u001b[0m                                 Traceback (most recent call last)",
      "\u001b[1;32m<ipython-input-5-e48f6dea5c37>\u001b[0m in \u001b[0;36m<module>\u001b[1;34m\u001b[0m\n\u001b[0;32m      1\u001b[0m \u001b[1;31m#Treinar com poucos dias\u001b[0m\u001b[1;33m\u001b[0m\u001b[1;33m\u001b[0m\u001b[1;33m\u001b[0m\u001b[0m\n\u001b[1;32m----> 2\u001b[1;33m \u001b[0mtrain\u001b[0m\u001b[1;33m.\u001b[0m\u001b[0mset_window\u001b[0m\u001b[1;33m(\u001b[0m\u001b[0mend\u001b[0m\u001b[1;33m=\u001b[0m\u001b[1;34m\"2011-04-19\"\u001b[0m\u001b[1;33m)\u001b[0m\u001b[1;33m\u001b[0m\u001b[1;33m\u001b[0m\u001b[0m\n\u001b[0m\u001b[0;32m      3\u001b[0m \u001b[0mtest\u001b[0m\u001b[1;33m.\u001b[0m\u001b[0mset_window\u001b[0m\u001b[1;33m(\u001b[0m\u001b[0mstart\u001b[0m\u001b[1;33m=\u001b[0m\u001b[1;34m\"2011-04-19\"\u001b[0m\u001b[1;33m)\u001b[0m\u001b[1;33m\u001b[0m\u001b[1;33m\u001b[0m\u001b[0m\n\u001b[0;32m      4\u001b[0m \u001b[1;33m\u001b[0m\u001b[0m\n\u001b[0;32m      5\u001b[0m \u001b[0mtrain_casa_1\u001b[0m \u001b[1;33m=\u001b[0m \u001b[0mtrain\u001b[0m\u001b[1;33m.\u001b[0m\u001b[0mbuildings\u001b[0m\u001b[1;33m[\u001b[0m\u001b[1;36m1\u001b[0m\u001b[1;33m]\u001b[0m\u001b[1;33m.\u001b[0m\u001b[0melec\u001b[0m\u001b[1;33m\u001b[0m\u001b[1;33m\u001b[0m\u001b[0m\n",
      "\u001b[1;31mNameError\u001b[0m: name 'train' is not defined"
     ]
    }
   ],
   "source": [
    "#Treinar com poucos dias\n",
    "train.set_window(end=\"2011-04-19\")\n",
    "test.set_window(start=\"2011-04-19\")\n",
    "\n",
    "train_casa_1 = train.buildings[1].elec\n",
    "test_casa_1 = test.buildings[1].elec\n",
    "\n",
    "top_5_casa_1 = train_casa_1.submeters().select_top_k(k=5)\n",
    "\n",
    "sample_period = 48 \n",
    "predictions = []\n",
    "gts = []\n",
    "fhmm = FHMM()\n",
    "\n",
    "fhmm.train(top_5_casa_1, sample_period=sample_period)\n",
    "gt, prediction = predict(fhmm, test_casa_1, sample_period, train.metadata['timezone'])\n",
    "\n",
    "imprime_casa()\n"
   ]
  },
  {
   "cell_type": "code",
   "execution_count": 6,
   "metadata": {},
   "outputs": [
    {
     "ename": "NameError",
     "evalue": "name 'train' is not defined",
     "output_type": "error",
     "traceback": [
      "\u001b[1;31m---------------------------------------------------------------------------\u001b[0m",
      "\u001b[1;31mNameError\u001b[0m                                 Traceback (most recent call last)",
      "\u001b[1;32m<ipython-input-6-ff56a5480531>\u001b[0m in \u001b[0;36m<module>\u001b[1;34m\u001b[0m\n\u001b[0;32m      2\u001b[0m \u001b[1;31m#Tentar usar a biblioteca tensorflow\u001b[0m\u001b[1;33m\u001b[0m\u001b[1;33m\u001b[0m\u001b[1;33m\u001b[0m\u001b[0m\n\u001b[0;32m      3\u001b[0m \u001b[1;31m# The dates are interpreted by Pandas, prefer using ISO dates (yyyy-mm-dd)\u001b[0m\u001b[1;33m\u001b[0m\u001b[1;33m\u001b[0m\u001b[1;33m\u001b[0m\u001b[0m\n\u001b[1;32m----> 4\u001b[1;33m \u001b[0mtrain\u001b[0m\u001b[1;33m.\u001b[0m\u001b[0mset_window\u001b[0m\u001b[1;33m(\u001b[0m\u001b[0mend\u001b[0m\u001b[1;33m=\u001b[0m\u001b[1;34m\"2011-04-25\"\u001b[0m\u001b[1;33m)\u001b[0m\u001b[1;33m\u001b[0m\u001b[1;33m\u001b[0m\u001b[0m\n\u001b[0m\u001b[0;32m      5\u001b[0m \u001b[0mtest\u001b[0m\u001b[1;33m.\u001b[0m\u001b[0mset_window\u001b[0m\u001b[1;33m(\u001b[0m\u001b[0mstart\u001b[0m\u001b[1;33m=\u001b[0m\u001b[1;34m\"2011-04-25\"\u001b[0m\u001b[1;33m)\u001b[0m\u001b[1;33m\u001b[0m\u001b[1;33m\u001b[0m\u001b[0m\n\u001b[0;32m      6\u001b[0m \u001b[1;33m\u001b[0m\u001b[0m\n",
      "\u001b[1;31mNameError\u001b[0m: name 'train' is not defined"
     ]
    }
   ],
   "source": [
    "#Treinar com poucos dias\n",
    "#Tentar usar a biblioteca tensorflow\n",
    "# The dates are interpreted by Pandas, prefer using ISO dates (yyyy-mm-dd)\n",
    "train.set_window(end=\"2011-04-25\")\n",
    "test.set_window(start=\"2011-04-25\")\n",
    "\n",
    "train_casa_1 = train.buildings[1].elec\n",
    "test_casa_1 = test.buildings[1].elec\n",
    "\n",
    "top_5_casa_1 = train_casa_1.submeters().select_top_k(k=5)\n",
    "\n",
    "sample_period = 48 \n",
    "predictions = []\n",
    "gts = []\n",
    "fhmm = FHMM()\n",
    "\n",
    "fhmm.train(top_5_casa_1, sample_period=sample_period)\n",
    "gt, prediction = predict(fhmm, test_casa_1, sample_period, train.metadata['timezone'])\n",
    "\n",
    "imprime_casa()\n"
   ]
  },
  {
   "cell_type": "code",
   "execution_count": 7,
   "metadata": {},
   "outputs": [
    {
     "ename": "NameError",
     "evalue": "name 'train' is not defined",
     "output_type": "error",
     "traceback": [
      "\u001b[1;31m---------------------------------------------------------------------------\u001b[0m",
      "\u001b[1;31mNameError\u001b[0m                                 Traceback (most recent call last)",
      "\u001b[1;32m<ipython-input-7-2f9e7b572df9>\u001b[0m in \u001b[0;36m<module>\u001b[1;34m\u001b[0m\n\u001b[0;32m      1\u001b[0m \u001b[1;31m#Treinar com poucos dias\u001b[0m\u001b[1;33m\u001b[0m\u001b[1;33m\u001b[0m\u001b[1;33m\u001b[0m\u001b[0m\n\u001b[0;32m      2\u001b[0m \u001b[1;31m#Tentar usar a biblioteca tensorflow\u001b[0m\u001b[1;33m\u001b[0m\u001b[1;33m\u001b[0m\u001b[1;33m\u001b[0m\u001b[0m\n\u001b[1;32m----> 3\u001b[1;33m \u001b[0mtrain\u001b[0m\u001b[1;33m.\u001b[0m\u001b[0mset_window\u001b[0m\u001b[1;33m(\u001b[0m\u001b[0mend\u001b[0m\u001b[1;33m=\u001b[0m\u001b[1;34m\"2011-05-10\"\u001b[0m\u001b[1;33m)\u001b[0m\u001b[1;33m\u001b[0m\u001b[1;33m\u001b[0m\u001b[0m\n\u001b[0m\u001b[0;32m      4\u001b[0m \u001b[0mtest\u001b[0m\u001b[1;33m.\u001b[0m\u001b[0mset_window\u001b[0m\u001b[1;33m(\u001b[0m\u001b[0mstart\u001b[0m\u001b[1;33m=\u001b[0m\u001b[1;34m\"2011-05-10\"\u001b[0m\u001b[1;33m)\u001b[0m\u001b[1;33m\u001b[0m\u001b[1;33m\u001b[0m\u001b[0m\n\u001b[0;32m      5\u001b[0m \u001b[1;33m\u001b[0m\u001b[0m\n",
      "\u001b[1;31mNameError\u001b[0m: name 'train' is not defined"
     ]
    }
   ],
   "source": [
    "#Treinar com poucos dias\n",
    "#Tentar usar a biblioteca tensorflow\n",
    "train.set_window(end=\"2011-05-10\")\n",
    "test.set_window(start=\"2011-05-10\")\n",
    "\n",
    "train_casa_1 = train.buildings[1].elec\n",
    "test_casa_1 = test.buildings[1].elec\n",
    "\n",
    "top_5_casa_1 = train_casa_1.submeters().select_top_k(k=5)\n",
    "\n",
    "sample_period = 48 \n",
    "predictions = []\n",
    "gts = []\n",
    "fhmm = FHMM()\n",
    "\n",
    "fhmm.train(top_5_casa_1, sample_period=sample_period)\n",
    "gt, prediction = predict(fhmm, test_casa_1, sample_period, train.metadata['timezone'])\n",
    "\n",
    "imprime_casa()"
   ]
  },
  {
   "cell_type": "code",
   "execution_count": 8,
   "metadata": {},
   "outputs": [
    {
     "ename": "NameError",
     "evalue": "name 'prediction' is not defined",
     "output_type": "error",
     "traceback": [
      "\u001b[1;31m---------------------------------------------------------------------------\u001b[0m",
      "\u001b[1;31mNameError\u001b[0m                                 Traceback (most recent call last)",
      "\u001b[1;32m<ipython-input-8-22132ee3f322>\u001b[0m in \u001b[0;36m<module>\u001b[1;34m\u001b[0m\n\u001b[0;32m      1\u001b[0m \u001b[1;31m#Definição de uma função que é capaz de encontrar o valor da energia predita em cada caso\u001b[0m\u001b[1;33m\u001b[0m\u001b[1;33m\u001b[0m\u001b[1;33m\u001b[0m\u001b[0m\n\u001b[1;32m----> 2\u001b[1;33m \u001b[0mprediction\u001b[0m\u001b[1;33m\u001b[0m\u001b[1;33m\u001b[0m\u001b[0m\n\u001b[0m",
      "\u001b[1;31mNameError\u001b[0m: name 'prediction' is not defined"
     ]
    }
   ],
   "source": [
    "#Definição de uma função que é capaz de encontrar o valor da energia predita em cada caso\n",
    "prediction"
   ]
  },
  {
   "cell_type": "code",
   "execution_count": 9,
   "metadata": {},
   "outputs": [
    {
     "ename": "NameError",
     "evalue": "name 'top_5_casa_1' is not defined",
     "output_type": "error",
     "traceback": [
      "\u001b[1;31m---------------------------------------------------------------------------\u001b[0m",
      "\u001b[1;31mNameError\u001b[0m                                 Traceback (most recent call last)",
      "\u001b[1;32m<ipython-input-9-4aca179d7b56>\u001b[0m in \u001b[0;36m<module>\u001b[1;34m\u001b[0m\n\u001b[1;32m----> 1\u001b[1;33m \u001b[0mtop_5_casa_1\u001b[0m\u001b[1;33m.\u001b[0m\u001b[0menergy_per_meter\u001b[0m\u001b[1;33m(\u001b[0m\u001b[1;33m)\u001b[0m\u001b[1;33m\u001b[0m\u001b[1;33m\u001b[0m\u001b[0m\n\u001b[0m",
      "\u001b[1;31mNameError\u001b[0m: name 'top_5_casa_1' is not defined"
     ]
    }
   ],
   "source": [
    "top_5_casa_1.energy_per_meter()"
   ]
  },
  {
   "cell_type": "code",
   "execution_count": null,
   "metadata": {},
   "outputs": [],
   "source": [
    "from nilmtk.stats.totalenergy import _energy_for_power_series\n",
    "objetos = ['Fridge', 'Light', 'Washer dryer', 'Sockets', 'Dish washer']\n",
    "energias = {}\n",
    "\n",
    "for objeto in objetos:\n",
    "    aux = _energy_for_power_series(prediction.loc[:, objeto], 60)\n",
    "    energias[objeto] = aux\n",
    "\n",
    "energias"
   ]
  },
  {
   "cell_type": "code",
   "execution_count": null,
   "metadata": {},
   "outputs": [],
   "source": [
    "\n"
   ]
  },
  {
   "cell_type": "code",
   "execution_count": null,
   "metadata": {},
   "outputs": [],
   "source": []
  }
 ],
 "metadata": {
  "kernelspec": {
   "display_name": "Python 3",
   "language": "python",
   "name": "python3"
  },
  "language_info": {
   "codemirror_mode": {
    "name": "ipython",
    "version": 3
   },
   "file_extension": ".py",
   "mimetype": "text/x-python",
   "name": "python",
   "nbconvert_exporter": "python",
   "pygments_lexer": "ipython3",
   "version": "3.6.10"
  }
 },
 "nbformat": 4,
 "nbformat_minor": 4
}
